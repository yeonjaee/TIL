{
 "cells": [
  {
   "cell_type": "code",
   "execution_count": 2,
   "metadata": {},
   "outputs": [],
   "source": [
    "import numpy as np \n",
    "import pandas as pd \n",
    "import matplotlib.pyplot as plt \n",
    "import seaborn as sns\n",
    "\n",
    "from scipy.stats import chisquare\n",
    "from scipy import stats\n",
    "import scipy as sp\n",
    "import statsmodels.api as sm \n",
    "from statsmodels.formula.api import ols, logit, glm"
   ]
  },
  {
   "cell_type": "code",
   "execution_count": 3,
   "metadata": {},
   "outputs": [],
   "source": [
    "df = pd.read_excel('./df.xlsx')"
   ]
  },
  {
   "cell_type": "markdown",
   "metadata": {},
   "source": [
    "---"
   ]
  },
  {
   "cell_type": "markdown",
   "metadata": {},
   "source": [
    "**교차분석(x^2 검정)**\n",
    "- 독립변인과 종속변인이 모두 명목척도 혹은 서열척도로 측정한 불연속 변인일 때 적용하는 통계방법\n",
    "- 사례에서 응답자의 '사용브랜드'에 따라 '월수입'에 차이가 있는지, 그리고 '성별'에 따라 '구매장소'에 차이가 있는지를 분석\n",
    "- 이 경우 독립변인인 '성별'과 '사용브랜드', 그리고 종속적인 '구매장소'는 모두 명목척도로 측정한 불연속 변인이다.\n",
    "- 관찰빈도 O와 기대빈도 E의 차이를 제곱한 후 기대빈도로 나눈 값을 합산한 값이 **카이제곱값(x^2)**이다.\n",
    "- <u>카이제곱 값이 유의미한 차이가 있는 것으로 나타나면 독립변인에 따른 종속변인의 빈도분포가 통계적으로 차이가 있다고 간주한다.</u>"
   ]
  },
  {
   "cell_type": "code",
   "execution_count": 7,
   "metadata": {},
   "outputs": [
    {
     "data": {
      "text/html": [
       "<div>\n",
       "<style scoped>\n",
       "    .dataframe tbody tr th:only-of-type {\n",
       "        vertical-align: middle;\n",
       "    }\n",
       "\n",
       "    .dataframe tbody tr th {\n",
       "        vertical-align: top;\n",
       "    }\n",
       "\n",
       "    .dataframe thead th {\n",
       "        text-align: right;\n",
       "    }\n",
       "</style>\n",
       "<table border=\"1\" class=\"dataframe\">\n",
       "  <thead>\n",
       "    <tr style=\"text-align: right;\">\n",
       "      <th>사용브랜드</th>\n",
       "      <th>1</th>\n",
       "      <th>2</th>\n",
       "    </tr>\n",
       "    <tr>\n",
       "      <th>월수입</th>\n",
       "      <th></th>\n",
       "      <th></th>\n",
       "    </tr>\n",
       "  </thead>\n",
       "  <tbody>\n",
       "    <tr>\n",
       "      <th>1</th>\n",
       "      <td>20</td>\n",
       "      <td>13</td>\n",
       "    </tr>\n",
       "    <tr>\n",
       "      <th>2</th>\n",
       "      <td>14</td>\n",
       "      <td>22</td>\n",
       "    </tr>\n",
       "    <tr>\n",
       "      <th>3</th>\n",
       "      <td>28</td>\n",
       "      <td>24</td>\n",
       "    </tr>\n",
       "    <tr>\n",
       "      <th>4</th>\n",
       "      <td>20</td>\n",
       "      <td>17</td>\n",
       "    </tr>\n",
       "    <tr>\n",
       "      <th>5</th>\n",
       "      <td>12</td>\n",
       "      <td>28</td>\n",
       "    </tr>\n",
       "    <tr>\n",
       "      <th>6</th>\n",
       "      <td>33</td>\n",
       "      <td>21</td>\n",
       "    </tr>\n",
       "  </tbody>\n",
       "</table>\n",
       "</div>"
      ],
      "text/plain": [
       "사용브랜드   1   2\n",
       "월수입          \n",
       "1      20  13\n",
       "2      14  22\n",
       "3      28  24\n",
       "4      20  17\n",
       "5      12  28\n",
       "6      33  21"
      ]
     },
     "execution_count": 7,
     "metadata": {},
     "output_type": "execute_result"
    }
   ],
   "source": [
    "pd.crosstab(df['월수입'],df['사용브랜드'])"
   ]
  },
  {
   "cell_type": "code",
   "execution_count": 4,
   "metadata": {},
   "outputs": [],
   "source": [
    "result = pd.crosstab(df.월수입, df.사용브랜드)"
   ]
  },
  {
   "cell_type": "code",
   "execution_count": 5,
   "metadata": {},
   "outputs": [
    {
     "data": {
      "text/plain": [
       "(12.86516581745558,\n",
       " 0.024675611662926037,\n",
       " 5,\n",
       " array([[16.63095238, 16.36904762],\n",
       "        [18.14285714, 17.85714286],\n",
       "        [26.20634921, 25.79365079],\n",
       "        [18.6468254 , 18.3531746 ],\n",
       "        [20.15873016, 19.84126984],\n",
       "        [27.21428571, 26.78571429]]))"
      ]
     },
     "execution_count": 5,
     "metadata": {},
     "output_type": "execute_result"
    }
   ],
   "source": [
    "stats.chi2_contingency(observed=result)"
   ]
  },
  {
   "cell_type": "code",
   "execution_count": 21,
   "metadata": {},
   "outputs": [
    {
     "data": {
      "text/plain": [
       "1    127\n",
       "2    125\n",
       "Name: 사용브랜드, dtype: int64"
      ]
     },
     "execution_count": 21,
     "metadata": {},
     "output_type": "execute_result"
    }
   ],
   "source": [
    "df['사용브랜드'].value_counts()"
   ]
  },
  {
   "cell_type": "code",
   "execution_count": 25,
   "metadata": {},
   "outputs": [
    {
     "data": {
      "text/plain": [
       "Power_divergenceResult(statistic=196.2733118971061, pvalue=array([0.99491356, 0.99418686]))"
      ]
     },
     "execution_count": 25,
     "metadata": {},
     "output_type": "execute_result"
    }
   ],
   "source": [
    "chisquare(df['월수입'],ddof=[1,2]) \n",
    "# 사용브랜드의 값은 1,2 임. ddof(adjustment to the degrees of freedom)에 값을 입력. 이는 사용브랜드에 따라 월수입 차이가 있는가?를 뜻함."
   ]
  },
  {
   "cell_type": "markdown",
   "metadata": {},
   "source": [
    "카이제곱값이 196.27로 95% 유의수준에서 통계적으로 유의미한 차이가 없는 것으로 해석할 수 있다."
   ]
  },
  {
   "cell_type": "code",
   "execution_count": 12,
   "metadata": {},
   "outputs": [
    {
     "data": {
      "text/html": [
       "<div>\n",
       "<style scoped>\n",
       "    .dataframe tbody tr th:only-of-type {\n",
       "        vertical-align: middle;\n",
       "    }\n",
       "\n",
       "    .dataframe tbody tr th {\n",
       "        vertical-align: top;\n",
       "    }\n",
       "\n",
       "    .dataframe thead th {\n",
       "        text-align: right;\n",
       "    }\n",
       "</style>\n",
       "<table border=\"1\" class=\"dataframe\">\n",
       "  <thead>\n",
       "    <tr style=\"text-align: right;\">\n",
       "      <th>성별</th>\n",
       "      <th>0</th>\n",
       "      <th>1</th>\n",
       "    </tr>\n",
       "    <tr>\n",
       "      <th>구매장소</th>\n",
       "      <th></th>\n",
       "      <th></th>\n",
       "    </tr>\n",
       "  </thead>\n",
       "  <tbody>\n",
       "    <tr>\n",
       "      <th>1</th>\n",
       "      <td>24</td>\n",
       "      <td>19</td>\n",
       "    </tr>\n",
       "    <tr>\n",
       "      <th>2</th>\n",
       "      <td>42</td>\n",
       "      <td>29</td>\n",
       "    </tr>\n",
       "    <tr>\n",
       "      <th>3</th>\n",
       "      <td>9</td>\n",
       "      <td>13</td>\n",
       "    </tr>\n",
       "    <tr>\n",
       "      <th>4</th>\n",
       "      <td>38</td>\n",
       "      <td>52</td>\n",
       "    </tr>\n",
       "    <tr>\n",
       "      <th>5</th>\n",
       "      <td>13</td>\n",
       "      <td>13</td>\n",
       "    </tr>\n",
       "  </tbody>\n",
       "</table>\n",
       "</div>"
      ],
      "text/plain": [
       "성별     0   1\n",
       "구매장소        \n",
       "1     24  19\n",
       "2     42  29\n",
       "3      9  13\n",
       "4     38  52\n",
       "5     13  13"
      ]
     },
     "execution_count": 12,
     "metadata": {},
     "output_type": "execute_result"
    }
   ],
   "source": [
    "pd.crosstab(df['구매장소'],df['성별'])"
   ]
  },
  {
   "cell_type": "code",
   "execution_count": 23,
   "metadata": {},
   "outputs": [
    {
     "data": {
      "text/plain": [
       "0    126\n",
       "1    126\n",
       "Name: 성별, dtype: int64"
      ]
     },
     "execution_count": 23,
     "metadata": {},
     "output_type": "execute_result"
    }
   ],
   "source": [
    "df['성별'].value_counts()"
   ]
  },
  {
   "cell_type": "code",
   "execution_count": 16,
   "metadata": {},
   "outputs": [
    {
     "data": {
      "text/plain": [
       "Power_divergenceResult(statistic=148.31174089068827, pvalue=array([0.99999996, 0.99999995]))"
      ]
     },
     "execution_count": 16,
     "metadata": {},
     "output_type": "execute_result"
    }
   ],
   "source": [
    "chisquare(df['구매장소'],ddof=[0,1]) # 성별의 값은 0,1 임. 이는 성별에 따라 구매장소 차이가 있는가?를 뜻함."
   ]
  },
  {
   "cell_type": "markdown",
   "metadata": {},
   "source": [
    "카이제곱값이 148.31로 95% 유의수준에서 통계적으로 유의미한 차이가 없는 것으로 해석할 수 있다."
   ]
  },
  {
   "cell_type": "markdown",
   "metadata": {},
   "source": [
    "---"
   ]
  },
  {
   "cell_type": "markdown",
   "metadata": {},
   "source": [
    "**T 검정**\n",
    "- 독립변인이 불연속변인이고 종속변인이 연속변인일 때 적용하는데, 독립변인의 집단이 2개일 때만 적용한다.\n",
    "- 사례에서 명목변인인 '사용브랜드'(삼성,애플)에 따라 비율변인인 '구매가격'과 등간변인인 '재구매의향'에 통계적으로 의미있는 차이가 있는가를 분석한다.\n",
    "- 독립표본 검정을 할 때는 독립변인의 두 집단 사이에 균등하게 분산이 이루어졌는가를 먼저 검정한다."
   ]
  },
  {
   "cell_type": "code",
   "execution_count": 5,
   "metadata": {},
   "outputs": [],
   "source": [
    "mean = df['구매가격'].values                       # 평균 비교\n",
    "mean1 = df[df['사용브랜드']==1].구매가격.values     # 삼성\n",
    "mean2 = df[df['사용브랜드']==2].구매가격.values     # 애플"
   ]
  },
  {
   "cell_type": "code",
   "execution_count": 6,
   "metadata": {},
   "outputs": [
    {
     "name": "stderr",
     "output_type": "stream",
     "text": [
      "C:\\ProgramData\\Anaconda3\\lib\\site-packages\\seaborn\\distributions.py:2619: FutureWarning: `distplot` is a deprecated function and will be removed in a future version. Please adapt your code to use either `displot` (a figure-level function with similar flexibility) or `histplot` (an axes-level function for histograms).\n",
      "  warnings.warn(msg, FutureWarning)\n",
      "C:\\ProgramData\\Anaconda3\\lib\\site-packages\\seaborn\\distributions.py:2619: FutureWarning: `distplot` is a deprecated function and will be removed in a future version. Please adapt your code to use either `displot` (a figure-level function with similar flexibility) or `histplot` (an axes-level function for histograms).\n",
      "  warnings.warn(msg, FutureWarning)\n"
     ]
    },
    {
     "data": {
      "image/png": "[encoded data removed]",
      "text/plain": [
       "<Figure size 432x288 with 1 Axes>"
      ]
     },
     "metadata": {
      "needs_background": "light"
     },
     "output_type": "display_data"
    },
    {
     "data": {
      "text/plain": [
       "ShapiroResult(statistic=0.9720979928970337, pvalue=0.009973179548978806)"
      ]
     },
     "execution_count": 6,
     "metadata": {},
     "output_type": "execute_result"
    }
   ],
   "source": [
    "%matplotlib inline\n",
    "\n",
    "sns.distplot(mean1,kde=True, fit=sp.stats.norm)\n",
    "sns.distplot(mean2,kde=True, fit=sp.stats.norm)\n",
    "plt.show()\n",
    "sp.stats.shapiro(mean1) # H0: Normal Distribution을 따름, Return(W,P-value)\n"
   ]
  },
  {
   "cell_type": "code",
   "execution_count": 7,
   "metadata": {},
   "outputs": [
    {
     "data": {
      "text/plain": [
       "LeveneResult(statistic=13.443717170975082, pvalue=0.00030027808643848084)"
      ]
     },
     "execution_count": 7,
     "metadata": {},
     "output_type": "execute_result"
    }
   ],
   "source": [
    "sp.stats.levene(mean1, mean2)   # H0: Normal Distribution을 따름. Return(W,P-value)"
   ]
  },
  {
   "cell_type": "markdown",
   "metadata": {},
   "source": [
    "- 레벤 테스트 결과, 사용브랜드 간 등분산성 가정은 위배됨\n",
    "- p-value가 0.0003 <0.05>> 등분산성 가정 위배\n",
    "- H0 : mean1, mean2 분산은 같다 (등분산)"
   ]
  },
  {
   "cell_type": "code",
   "execution_count": 8,
   "metadata": {},
   "outputs": [
    {
     "data": {
      "text/plain": [
       "Ttest_indResult(statistic=-9.2004623883404, pvalue=3.598124628532717e-17)"
      ]
     },
     "execution_count": 8,
     "metadata": {},
     "output_type": "execute_result"
    }
   ],
   "source": [
    "# 독립 표본 t검정 (등분산성 위배 조건)\n",
    "stats.ttest_ind(mean1,mean2,equal_var=False)"
   ]
  },
  {
   "cell_type": "markdown",
   "metadata": {},
   "source": [
    "-  pvalue=3.598124628532717e-17 < 0.05 이므로, 두 집단 간 유의한 차이가 있음"
   ]
  },
  {
   "cell_type": "markdown",
   "metadata": {},
   "source": [
    "---"
   ]
  },
  {
   "cell_type": "markdown",
   "metadata": {},
   "source": [
    "**분산분석**"
   ]
  },
  {
   "cell_type": "code",
   "execution_count": 10,
   "metadata": {},
   "outputs": [],
   "source": [
    "# 연령에 따른 구매가격 차이\n",
    "\n",
    "anova1 = df[df['연령2']==1].재구매의향.values\n",
    "anova2 = df[df['연령2']==2].재구매의향.values\n",
    "anova3 = df[df['연령2']==3].재구매의향.values\n",
    "\n",
    "# 연령2: 3개의 집단으로 줄임(요인분석한 결과값임)\n"
   ]
  },
  {
   "cell_type": "code",
   "execution_count": 16,
   "metadata": {},
   "outputs": [
    {
     "name": "stderr",
     "output_type": "stream",
     "text": [
      "C:\\ProgramData\\Anaconda3\\lib\\site-packages\\seaborn\\distributions.py:2619: FutureWarning: `distplot` is a deprecated function and will be removed in a future version. Please adapt your code to use either `displot` (a figure-level function with similar flexibility) or `histplot` (an axes-level function for histograms).\n",
      "  warnings.warn(msg, FutureWarning)\n",
      "C:\\ProgramData\\Anaconda3\\lib\\site-packages\\seaborn\\distributions.py:2619: FutureWarning: `distplot` is a deprecated function and will be removed in a future version. Please adapt your code to use either `displot` (a figure-level function with similar flexibility) or `histplot` (an axes-level function for histograms).\n",
      "  warnings.warn(msg, FutureWarning)\n",
      "C:\\ProgramData\\Anaconda3\\lib\\site-packages\\seaborn\\distributions.py:2619: FutureWarning: `distplot` is a deprecated function and will be removed in a future version. Please adapt your code to use either `displot` (a figure-level function with similar flexibility) or `histplot` (an axes-level function for histograms).\n",
      "  warnings.warn(msg, FutureWarning)\n"
     ]
    },
    {
     "data": {
      "image/png": "[encoded data removed]",
      "text/plain": [
       "<Figure size 432x288 with 1 Axes>"
      ]
     },
     "metadata": {
      "needs_background": "light"
     },
     "output_type": "display_data"
    }
   ],
   "source": [
    "sns.distplot(anova1,kde=False,fit=sp.stats.norm)\n",
    "sns.distplot(anova2,kde=False,fit=sp.stats.norm)\n",
    "sns.distplot(anova3,kde=False,fit=sp.stats.norm)\n",
    "plt.show()"
   ]
  },
  {
   "cell_type": "code",
   "execution_count": 15,
   "metadata": {},
   "outputs": [
    {
     "data": {
      "text/plain": [
       "F_onewayResult(statistic=72.42612494637737, pvalue=1.613686022426391e-25)"
      ]
     },
     "execution_count": 15,
     "metadata": {},
     "output_type": "execute_result"
    }
   ],
   "source": [
    "stats.f_oneway(anova1,anova2,anova3)\n",
    "# 일원분산분석 결과, f 통계량은 0.818이고, pvalue = 0.442450 > 0.05 임.\n",
    "# 세 집단 간 유의한 차이가 없음"
   ]
  },
  {
   "cell_type": "markdown",
   "metadata": {},
   "source": [
    "- pvalue=1.613686022426391e-25 < 0.05\n",
    "- H0: 연령2의 세 집단간 재구매의향은 차이가 없다.\n",
    "- 세 집단 간 모두 차이가 없다고 말할 수 없다. --> **사후 테스트 필요**"
   ]
  },
  {
   "cell_type": "code",
   "execution_count": 13,
   "metadata": {},
   "outputs": [
    {
     "data": {
      "text/html": [
       "<table class=\"simpletable\">\n",
       "<caption>Multiple Comparison of Means - Tukey HSD, FWER=0.05</caption>\n",
       "<tr>\n",
       "  <th>group1</th> <th>group2</th> <th>meandiff</th>  <th>p-adj</th>  <th>lower</th>   <th>upper</th> <th>reject</th>\n",
       "</tr>\n",
       "<tr>\n",
       "     <td>1</td>      <td>2</td>     <td>-0.75</td>  <td>0.0543</td> <td>-1.5079</td> <td>0.0079</td>  <td>False</td>\n",
       "</tr>\n",
       "<tr>\n",
       "     <td>1</td>      <td>3</td>    <td>-0.4026</td> <td>0.6275</td> <td>-1.1598</td> <td>0.3546</td>  <td>False</td>\n",
       "</tr>\n",
       "<tr>\n",
       "     <td>1</td>      <td>4</td>    <td>-0.3488</td> <td>0.7869</td> <td>-1.1507</td> <td>0.4531</td>  <td>False</td>\n",
       "</tr>\n",
       "<tr>\n",
       "     <td>1</td>      <td>5</td>    <td>1.4688</td>   <td>0.001</td> <td>0.6337</td>  <td>2.3038</td>  <td>True</td> \n",
       "</tr>\n",
       "<tr>\n",
       "     <td>1</td>      <td>6</td>      <td>1.0</td>    <td>0.087</td> <td>-0.079</td>   <td>2.079</td>  <td>False</td>\n",
       "</tr>\n",
       "<tr>\n",
       "     <td>2</td>      <td>3</td>    <td>0.3474</td>  <td>0.1719</td> <td>-0.074</td>  <td>0.7688</td>  <td>False</td>\n",
       "</tr>\n",
       "<tr>\n",
       "     <td>2</td>      <td>4</td>    <td>0.4012</td>   <td>0.191</td> <td>-0.0961</td> <td>0.8985</td>  <td>False</td>\n",
       "</tr>\n",
       "<tr>\n",
       "     <td>2</td>      <td>5</td>    <td>2.2188</td>   <td>0.001</td> <td>1.6696</td>  <td>2.7679</td>  <td>True</td> \n",
       "</tr>\n",
       "<tr>\n",
       "     <td>2</td>      <td>6</td>     <td>1.75</td>    <td>0.001</td> <td>0.8734</td>  <td>2.6266</td>  <td>True</td> \n",
       "</tr>\n",
       "<tr>\n",
       "     <td>3</td>      <td>4</td>    <td>0.0538</td>    <td>0.9</td>  <td>-0.4424</td> <td>0.5499</td>  <td>False</td>\n",
       "</tr>\n",
       "<tr>\n",
       "     <td>3</td>      <td>5</td>    <td>1.8713</td>   <td>0.001</td> <td>1.3232</td>  <td>2.4195</td>  <td>True</td> \n",
       "</tr>\n",
       "<tr>\n",
       "     <td>3</td>      <td>6</td>    <td>1.4026</td>   <td>0.001</td> <td>0.5266</td>  <td>2.2786</td>  <td>True</td> \n",
       "</tr>\n",
       "<tr>\n",
       "     <td>4</td>      <td>5</td>    <td>1.8176</td>   <td>0.001</td> <td>1.2092</td>   <td>2.426</td>  <td>True</td> \n",
       "</tr>\n",
       "<tr>\n",
       "     <td>4</td>      <td>6</td>    <td>1.3488</td>   <td>0.001</td> <td>0.4339</td>  <td>2.2638</td>  <td>True</td> \n",
       "</tr>\n",
       "<tr>\n",
       "     <td>5</td>      <td>6</td>    <td>-0.4688</td> <td>0.6856</td> <td>-1.4129</td> <td>0.4754</td>  <td>False</td>\n",
       "</tr>\n",
       "</table>"
      ],
      "text/plain": [
       "<class 'statsmodels.iolib.table.SimpleTable'>"
      ]
     },
     "execution_count": 13,
     "metadata": {},
     "output_type": "execute_result"
    }
   ],
   "source": [
    "# 사후 테스트\n",
    "from statsmodels.stats.multicomp import pairwise_tukeyhsd\n",
    "\n",
    "tukey = pairwise_tukeyhsd(endog = df['재구매의향'], # data\n",
    "groups=df['연령'],  # groups\n",
    "alpha=0.05) # 유의수준(significance level)\n",
    "tukey.summary()"
   ]
  },
  {
   "cell_type": "markdown",
   "metadata": {},
   "source": [
    "<u>결과 해석</u>\n",
    "1-3, 2-3 집단간 평균 차이 존재: p-value = 0.001, 귀무가설 기각(reject = True)"
   ]
  },
  {
   "cell_type": "code",
   "execution_count": 14,
   "metadata": {},
   "outputs": [
    {
     "name": "stderr",
     "output_type": "stream",
     "text": [
      "C:\\ProgramData\\Anaconda3\\lib\\site-packages\\statsmodels\\sandbox\\stats\\multicomp.py:775: UserWarning: FixedFormatter should only be used together with FixedLocator\n",
      "  ax1.set_yticklabels(np.insert(self.groupsunique.astype(str), 0, ''))\n"
     ]
    },
    {
     "data": {
      "image/png": "[encoded data removed]",
      "text/plain": [
       "<Figure size 720x432 with 1 Axes>"
      ]
     },
     "metadata": {
      "needs_background": "light"
     },
     "output_type": "display_data"
    }
   ],
   "source": [
    "# 그래프로 표시\n",
    "tukey.plot_simultaneous()\n",
    "plt.vlines(x=49.58,ymin=-0.5,ymax=4.5,color='red')\n",
    "plt.show()"
   ]
  },
  {
   "cell_type": "markdown",
   "metadata": {},
   "source": [
    "---"
   ]
  },
  {
   "cell_type": "markdown",
   "metadata": {},
   "source": [
    "**상관분석**"
   ]
  },
  {
   "cell_type": "code",
   "execution_count": 17,
   "metadata": {},
   "outputs": [
    {
     "data": {
      "text/plain": [
       "(0.41783620648818565, 4.546075388272401e-12)"
      ]
     },
     "execution_count": 17,
     "metadata": {},
     "output_type": "execute_result"
    }
   ],
   "source": [
    "sp.stats.pearsonr(df.재구매의향,df.구입조언)"
   ]
  },
  {
   "cell_type": "markdown",
   "metadata": {},
   "source": [
    "거의 상관 없음"
   ]
  },
  {
   "cell_type": "code",
   "execution_count": 19,
   "metadata": {},
   "outputs": [
    {
     "name": "stdout",
     "output_type": "stream",
     "text": [
      "상관관계=0.42,p-value=0.00\n"
     ]
    }
   ],
   "source": [
    "corr = sp.stats.pearsonr(df.재구매의향,df.구입조언)\n",
    "print('상관관계=%.2f,p-value=%.2f'%(corr))"
   ]
  },
  {
   "cell_type": "code",
   "execution_count": 21,
   "metadata": {},
   "outputs": [
    {
     "data": {
      "text/html": [
       "<div>\n",
       "<style scoped>\n",
       "    .dataframe tbody tr th:only-of-type {\n",
       "        vertical-align: middle;\n",
       "    }\n",
       "\n",
       "    .dataframe tbody tr th {\n",
       "        vertical-align: top;\n",
       "    }\n",
       "\n",
       "    .dataframe thead th {\n",
       "        text-align: right;\n",
       "    }\n",
       "</style>\n",
       "<table border=\"1\" class=\"dataframe\">\n",
       "  <thead>\n",
       "    <tr style=\"text-align: right;\">\n",
       "      <th></th>\n",
       "      <th>번호</th>\n",
       "      <th>사용브랜드</th>\n",
       "      <th>사용기간</th>\n",
       "      <th>구매장소</th>\n",
       "      <th>구매가격</th>\n",
       "      <th>정보획득</th>\n",
       "      <th>구입조언</th>\n",
       "      <th>하루사용시간</th>\n",
       "      <th>브랜드이미지</th>\n",
       "      <th>가격만족도</th>\n",
       "      <th>...</th>\n",
       "      <th>구매중요도9_A/S</th>\n",
       "      <th>구매중요도10_명성</th>\n",
       "      <th>성별</th>\n",
       "      <th>연령</th>\n",
       "      <th>연령2</th>\n",
       "      <th>학력</th>\n",
       "      <th>직업</th>\n",
       "      <th>월수입</th>\n",
       "      <th>결혼</th>\n",
       "      <th>가족수</th>\n",
       "    </tr>\n",
       "  </thead>\n",
       "  <tbody>\n",
       "    <tr>\n",
       "      <th>번호</th>\n",
       "      <td>1.000000</td>\n",
       "      <td>-0.047623</td>\n",
       "      <td>0.055364</td>\n",
       "      <td>-0.025606</td>\n",
       "      <td>-0.086080</td>\n",
       "      <td>-0.051147</td>\n",
       "      <td>-0.050270</td>\n",
       "      <td>0.016985</td>\n",
       "      <td>0.136440</td>\n",
       "      <td>0.078784</td>\n",
       "      <td>...</td>\n",
       "      <td>0.052534</td>\n",
       "      <td>-0.010902</td>\n",
       "      <td>-0.010801</td>\n",
       "      <td>-0.038587</td>\n",
       "      <td>-0.003438</td>\n",
       "      <td>-0.018785</td>\n",
       "      <td>0.014950</td>\n",
       "      <td>-0.201912</td>\n",
       "      <td>-0.155690</td>\n",
       "      <td>0.020283</td>\n",
       "    </tr>\n",
       "    <tr>\n",
       "      <th>사용브랜드</th>\n",
       "      <td>-0.047623</td>\n",
       "      <td>1.000000</td>\n",
       "      <td>0.015513</td>\n",
       "      <td>-0.009409</td>\n",
       "      <td>0.504192</td>\n",
       "      <td>-0.056471</td>\n",
       "      <td>-0.022794</td>\n",
       "      <td>-0.023418</td>\n",
       "      <td>-0.086466</td>\n",
       "      <td>-0.048290</td>\n",
       "      <td>...</td>\n",
       "      <td>-0.319646</td>\n",
       "      <td>-0.268644</td>\n",
       "      <td>0.007937</td>\n",
       "      <td>0.035986</td>\n",
       "      <td>0.020569</td>\n",
       "      <td>0.015688</td>\n",
       "      <td>0.078505</td>\n",
       "      <td>0.000946</td>\n",
       "      <td>0.011505</td>\n",
       "      <td>-0.012989</td>\n",
       "    </tr>\n",
       "    <tr>\n",
       "      <th>사용기간</th>\n",
       "      <td>0.055364</td>\n",
       "      <td>0.015513</td>\n",
       "      <td>1.000000</td>\n",
       "      <td>-0.033291</td>\n",
       "      <td>0.055694</td>\n",
       "      <td>-0.041385</td>\n",
       "      <td>0.163995</td>\n",
       "      <td>-0.031484</td>\n",
       "      <td>0.364656</td>\n",
       "      <td>0.275456</td>\n",
       "      <td>...</td>\n",
       "      <td>0.049501</td>\n",
       "      <td>-0.070494</td>\n",
       "      <td>0.020953</td>\n",
       "      <td>0.289194</td>\n",
       "      <td>0.280284</td>\n",
       "      <td>0.135625</td>\n",
       "      <td>-0.067558</td>\n",
       "      <td>0.170708</td>\n",
       "      <td>0.200593</td>\n",
       "      <td>-0.031246</td>\n",
       "    </tr>\n",
       "    <tr>\n",
       "      <th>구매장소</th>\n",
       "      <td>-0.025606</td>\n",
       "      <td>-0.009409</td>\n",
       "      <td>-0.033291</td>\n",
       "      <td>1.000000</td>\n",
       "      <td>0.000500</td>\n",
       "      <td>0.154155</td>\n",
       "      <td>0.129688</td>\n",
       "      <td>0.096426</td>\n",
       "      <td>-0.112618</td>\n",
       "      <td>-0.101271</td>\n",
       "      <td>...</td>\n",
       "      <td>-0.015530</td>\n",
       "      <td>-0.003555</td>\n",
       "      <td>0.111610</td>\n",
       "      <td>0.063064</td>\n",
       "      <td>0.039499</td>\n",
       "      <td>0.005582</td>\n",
       "      <td>0.052707</td>\n",
       "      <td>-0.052339</td>\n",
       "      <td>-0.025227</td>\n",
       "      <td>-0.125619</td>\n",
       "    </tr>\n",
       "    <tr>\n",
       "      <th>구매가격</th>\n",
       "      <td>-0.086080</td>\n",
       "      <td>0.504192</td>\n",
       "      <td>0.055694</td>\n",
       "      <td>0.000500</td>\n",
       "      <td>1.000000</td>\n",
       "      <td>0.036478</td>\n",
       "      <td>0.166607</td>\n",
       "      <td>0.162502</td>\n",
       "      <td>0.016474</td>\n",
       "      <td>0.121168</td>\n",
       "      <td>...</td>\n",
       "      <td>-0.061142</td>\n",
       "      <td>-0.089322</td>\n",
       "      <td>0.054414</td>\n",
       "      <td>0.026217</td>\n",
       "      <td>0.047563</td>\n",
       "      <td>0.102732</td>\n",
       "      <td>-0.021546</td>\n",
       "      <td>0.140954</td>\n",
       "      <td>0.010288</td>\n",
       "      <td>0.031466</td>\n",
       "    </tr>\n",
       "  </tbody>\n",
       "</table>\n",
       "<p>5 rows × 29 columns</p>\n",
       "</div>"
      ],
      "text/plain": [
       "             번호     사용브랜드      사용기간      구매장소      구매가격      정보획득      구입조언  \\\n",
       "번호     1.000000 -0.047623  0.055364 -0.025606 -0.086080 -0.051147 -0.050270   \n",
       "사용브랜드 -0.047623  1.000000  0.015513 -0.009409  0.504192 -0.056471 -0.022794   \n",
       "사용기간   0.055364  0.015513  1.000000 -0.033291  0.055694 -0.041385  0.163995   \n",
       "구매장소  -0.025606 -0.009409 -0.033291  1.000000  0.000500  0.154155  0.129688   \n",
       "구매가격  -0.086080  0.504192  0.055694  0.000500  1.000000  0.036478  0.166607   \n",
       "\n",
       "         하루사용시간    브랜드이미지     가격만족도  ...  구매중요도9_A/S  구매중요도10_명성         성별  \\\n",
       "번호     0.016985  0.136440  0.078784  ...    0.052534    -0.010902 -0.010801   \n",
       "사용브랜드 -0.023418 -0.086466 -0.048290  ...   -0.319646    -0.268644  0.007937   \n",
       "사용기간  -0.031484  0.364656  0.275456  ...    0.049501    -0.070494  0.020953   \n",
       "구매장소   0.096426 -0.112618 -0.101271  ...   -0.015530    -0.003555  0.111610   \n",
       "구매가격   0.162502  0.016474  0.121168  ...   -0.061142    -0.089322  0.054414   \n",
       "\n",
       "             연령       연령2        학력        직업       월수입        결혼       가족수  \n",
       "번호    -0.038587 -0.003438 -0.018785  0.014950 -0.201912 -0.155690  0.020283  \n",
       "사용브랜드  0.035986  0.020569  0.015688  0.078505  0.000946  0.011505 -0.012989  \n",
       "사용기간   0.289194  0.280284  0.135625 -0.067558  0.170708  0.200593 -0.031246  \n",
       "구매장소   0.063064  0.039499  0.005582  0.052707 -0.052339 -0.025227 -0.125619  \n",
       "구매가격   0.026217  0.047563  0.102732 -0.021546  0.140954  0.010288  0.031466  \n",
       "\n",
       "[5 rows x 29 columns]"
      ]
     },
     "execution_count": 21,
     "metadata": {},
     "output_type": "execute_result"
    }
   ],
   "source": [
    "df.corr(method='pearson').head()"
   ]
  },
  {
   "cell_type": "code",
   "execution_count": 22,
   "metadata": {},
   "outputs": [
    {
     "data": {
      "text/html": [
       "<table class=\"simpletable\">\n",
       "<caption>OLS Regression Results</caption>\n",
       "<tr>\n",
       "  <th>Dep. Variable:</th>          <td>재구매의향</td>      <th>  R-squared:         </th> <td>   0.702</td>\n",
       "</tr>\n",
       "<tr>\n",
       "  <th>Model:</th>                   <td>OLS</td>       <th>  Adj. R-squared:    </th> <td>   0.689</td>\n",
       "</tr>\n",
       "<tr>\n",
       "  <th>Method:</th>             <td>Least Squares</td>  <th>  F-statistic:       </th> <td>   51.44</td>\n",
       "</tr>\n",
       "<tr>\n",
       "  <th>Date:</th>             <td>Tue, 08 Feb 2022</td> <th>  Prob (F-statistic):</th> <td>7.46e-57</td>\n",
       "</tr>\n",
       "<tr>\n",
       "  <th>Time:</th>                 <td>11:35:43</td>     <th>  Log-Likelihood:    </th> <td> -240.30</td>\n",
       "</tr>\n",
       "<tr>\n",
       "  <th>No. Observations:</th>      <td>   252</td>      <th>  AIC:               </th> <td>   504.6</td>\n",
       "</tr>\n",
       "<tr>\n",
       "  <th>Df Residuals:</th>          <td>   240</td>      <th>  BIC:               </th> <td>   547.0</td>\n",
       "</tr>\n",
       "<tr>\n",
       "  <th>Df Model:</th>              <td>    11</td>      <th>                     </th>     <td> </td>   \n",
       "</tr>\n",
       "<tr>\n",
       "  <th>Covariance Type:</th>      <td>nonrobust</td>    <th>                     </th>     <td> </td>   \n",
       "</tr>\n",
       "</table>\n",
       "<table class=\"simpletable\">\n",
       "<tr>\n",
       "       <td></td>         <th>coef</th>     <th>std err</th>      <th>t</th>      <th>P>|t|</th>  <th>[0.025</th>    <th>0.975]</th>  \n",
       "</tr>\n",
       "<tr>\n",
       "  <th>Intercept</th>  <td>   -0.1580</td> <td>    0.226</td> <td>   -0.699</td> <td> 0.485</td> <td>   -0.603</td> <td>    0.287</td>\n",
       "</tr>\n",
       "<tr>\n",
       "  <th>성별</th>         <td>    0.0573</td> <td>    0.085</td> <td>    0.672</td> <td> 0.502</td> <td>   -0.111</td> <td>    0.225</td>\n",
       "</tr>\n",
       "<tr>\n",
       "  <th>연령</th>         <td>    0.0503</td> <td>    0.047</td> <td>    1.071</td> <td> 0.285</td> <td>   -0.042</td> <td>    0.143</td>\n",
       "</tr>\n",
       "<tr>\n",
       "  <th>학력</th>         <td>    0.0062</td> <td>    0.025</td> <td>    0.246</td> <td> 0.806</td> <td>   -0.043</td> <td>    0.056</td>\n",
       "</tr>\n",
       "<tr>\n",
       "  <th>월수입</th>        <td>   -0.0368</td> <td>    0.027</td> <td>   -1.372</td> <td> 0.171</td> <td>   -0.090</td> <td>    0.016</td>\n",
       "</tr>\n",
       "<tr>\n",
       "  <th>사용기간</th>       <td>    0.1292</td> <td>    0.034</td> <td>    3.807</td> <td> 0.000</td> <td>    0.062</td> <td>    0.196</td>\n",
       "</tr>\n",
       "<tr>\n",
       "  <th>구매가격</th>       <td> 3.583e-06</td> <td>    0.001</td> <td>    0.003</td> <td> 0.997</td> <td>   -0.002</td> <td>    0.002</td>\n",
       "</tr>\n",
       "<tr>\n",
       "  <th>구입조언</th>       <td>    0.1206</td> <td>    0.049</td> <td>    2.459</td> <td> 0.015</td> <td>    0.024</td> <td>    0.217</td>\n",
       "</tr>\n",
       "<tr>\n",
       "  <th>브랜드이미지</th>     <td>    0.4527</td> <td>    0.044</td> <td>   10.261</td> <td> 0.000</td> <td>    0.366</td> <td>    0.540</td>\n",
       "</tr>\n",
       "<tr>\n",
       "  <th>가격만족도</th>      <td>    0.3961</td> <td>    0.052</td> <td>    7.626</td> <td> 0.000</td> <td>    0.294</td> <td>    0.498</td>\n",
       "</tr>\n",
       "<tr>\n",
       "  <th>구매중요도1_메모리</th> <td>   -0.0426</td> <td>    0.028</td> <td>   -1.538</td> <td> 0.125</td> <td>   -0.097</td> <td>    0.012</td>\n",
       "</tr>\n",
       "<tr>\n",
       "  <th>하루사용시간</th>     <td>   -0.0010</td> <td>    0.031</td> <td>   -0.033</td> <td> 0.974</td> <td>   -0.062</td> <td>    0.060</td>\n",
       "</tr>\n",
       "</table>\n",
       "<table class=\"simpletable\">\n",
       "<tr>\n",
       "  <th>Omnibus:</th>       <td> 4.865</td> <th>  Durbin-Watson:     </th> <td>   2.144</td>\n",
       "</tr>\n",
       "<tr>\n",
       "  <th>Prob(Omnibus):</th> <td> 0.088</td> <th>  Jarque-Bera (JB):  </th> <td>   4.345</td>\n",
       "</tr>\n",
       "<tr>\n",
       "  <th>Skew:</th>          <td>-0.249</td> <th>  Prob(JB):          </th> <td>   0.114</td>\n",
       "</tr>\n",
       "<tr>\n",
       "  <th>Kurtosis:</th>      <td> 2.592</td> <th>  Cond. No.          </th> <td>    611.</td>\n",
       "</tr>\n",
       "</table><br/><br/>Notes:<br/>[1] Standard Errors assume that the covariance matrix of the errors is correctly specified."
      ],
      "text/plain": [
       "<class 'statsmodels.iolib.summary.Summary'>\n",
       "\"\"\"\n",
       "                            OLS Regression Results                            \n",
       "==============================================================================\n",
       "Dep. Variable:                  재구매의향   R-squared:                       0.702\n",
       "Model:                            OLS   Adj. R-squared:                  0.689\n",
       "Method:                 Least Squares   F-statistic:                     51.44\n",
       "Date:                Tue, 08 Feb 2022   Prob (F-statistic):           7.46e-57\n",
       "Time:                        11:35:43   Log-Likelihood:                -240.30\n",
       "No. Observations:                 252   AIC:                             504.6\n",
       "Df Residuals:                     240   BIC:                             547.0\n",
       "Df Model:                          11                                         \n",
       "Covariance Type:            nonrobust                                         \n",
       "==============================================================================\n",
       "                 coef    std err          t      P>|t|      [0.025      0.975]\n",
       "------------------------------------------------------------------------------\n",
       "Intercept     -0.1580      0.226     -0.699      0.485      -0.603       0.287\n",
       "성별             0.0573      0.085      0.672      0.502      -0.111       0.225\n",
       "연령             0.0503      0.047      1.071      0.285      -0.042       0.143\n",
       "학력             0.0062      0.025      0.246      0.806      -0.043       0.056\n",
       "월수입           -0.0368      0.027     -1.372      0.171      -0.090       0.016\n",
       "사용기간           0.1292      0.034      3.807      0.000       0.062       0.196\n",
       "구매가격        3.583e-06      0.001      0.003      0.997      -0.002       0.002\n",
       "구입조언           0.1206      0.049      2.459      0.015       0.024       0.217\n",
       "브랜드이미지         0.4527      0.044     10.261      0.000       0.366       0.540\n",
       "가격만족도          0.3961      0.052      7.626      0.000       0.294       0.498\n",
       "구매중요도1_메모리    -0.0426      0.028     -1.538      0.125      -0.097       0.012\n",
       "하루사용시간        -0.0010      0.031     -0.033      0.974      -0.062       0.060\n",
       "==============================================================================\n",
       "Omnibus:                        4.865   Durbin-Watson:                   2.144\n",
       "Prob(Omnibus):                  0.088   Jarque-Bera (JB):                4.345\n",
       "Skew:                          -0.249   Prob(JB):                        0.114\n",
       "Kurtosis:                       2.592   Cond. No.                         611.\n",
       "==============================================================================\n",
       "\n",
       "Notes:\n",
       "[1] Standard Errors assume that the covariance matrix of the errors is correctly specified.\n",
       "\"\"\""
      ]
     },
     "execution_count": 22,
     "metadata": {},
     "output_type": "execute_result"
    }
   ],
   "source": [
    "ols(formula='재구매의향 ~ 성별+연령+학력+월수입+사용기간+구매가격+구입조언+브랜드이미지+가격만족도+구매중요도1_메모리+하루사용시간', data=df).fit().summary()"
   ]
  },
  {
   "cell_type": "markdown",
   "metadata": {},
   "source": [
    "- R의 형식\n",
    "- formula = 종속 변수(Depentable variable)\n",
    "- ~ 뒤의 변수: 독립 변수\n",
    "- fit(): 최적화\n",
    "\n",
    "- R-squared: 결정계수\n",
    "\n",
    "- 회귀식 그리는 방식: P>|t| 값이 0.000인 intercept에 각각의 coef 값을 곱하여 계산. (y = 0.1292 * 사용기간 + 0.1206 * 구입조언 + ...)"
   ]
  },
  {
   "cell_type": "code",
   "execution_count": 24,
   "metadata": {},
   "outputs": [
    {
     "name": "stderr",
     "output_type": "stream",
     "text": [
      "C:\\ProgramData\\Anaconda3\\lib\\site-packages\\matplotlib\\backends\\backend_agg.py:240: RuntimeWarning: Glyph 49324 missing from current font.\n",
      "  font.set_text(s, 0.0, flags=flags)\n",
      "C:\\ProgramData\\Anaconda3\\lib\\site-packages\\matplotlib\\backends\\backend_agg.py:240: RuntimeWarning: Glyph 50857 missing from current font.\n",
      "  font.set_text(s, 0.0, flags=flags)\n",
      "C:\\ProgramData\\Anaconda3\\lib\\site-packages\\matplotlib\\backends\\backend_agg.py:240: RuntimeWarning: Glyph 44592 missing from current font.\n",
      "  font.set_text(s, 0.0, flags=flags)\n",
      "C:\\ProgramData\\Anaconda3\\lib\\site-packages\\matplotlib\\backends\\backend_agg.py:240: RuntimeWarning: Glyph 44036 missing from current font.\n",
      "  font.set_text(s, 0.0, flags=flags)\n",
      "C:\\ProgramData\\Anaconda3\\lib\\site-packages\\matplotlib\\backends\\backend_agg.py:240: RuntimeWarning: Glyph 51116 missing from current font.\n",
      "  font.set_text(s, 0.0, flags=flags)\n",
      "C:\\ProgramData\\Anaconda3\\lib\\site-packages\\matplotlib\\backends\\backend_agg.py:240: RuntimeWarning: Glyph 44396 missing from current font.\n",
      "  font.set_text(s, 0.0, flags=flags)\n",
      "C:\\ProgramData\\Anaconda3\\lib\\site-packages\\matplotlib\\backends\\backend_agg.py:240: RuntimeWarning: Glyph 47588 missing from current font.\n",
      "  font.set_text(s, 0.0, flags=flags)\n",
      "C:\\ProgramData\\Anaconda3\\lib\\site-packages\\matplotlib\\backends\\backend_agg.py:240: RuntimeWarning: Glyph 51032 missing from current font.\n",
      "  font.set_text(s, 0.0, flags=flags)\n",
      "C:\\ProgramData\\Anaconda3\\lib\\site-packages\\matplotlib\\backends\\backend_agg.py:240: RuntimeWarning: Glyph 54693 missing from current font.\n",
      "  font.set_text(s, 0.0, flags=flags)\n",
      "C:\\ProgramData\\Anaconda3\\lib\\site-packages\\matplotlib\\backends\\backend_agg.py:240: RuntimeWarning: Glyph 49324 missing from current font.\n",
      "  font.set_text(s, 0.0, flags=flags)\n",
      "C:\\ProgramData\\Anaconda3\\lib\\site-packages\\matplotlib\\backends\\backend_agg.py:240: RuntimeWarning: Glyph 50857 missing from current font.\n",
      "  font.set_text(s, 0.0, flags=flags)\n",
      "C:\\ProgramData\\Anaconda3\\lib\\site-packages\\matplotlib\\backends\\backend_agg.py:240: RuntimeWarning: Glyph 44592 missing from current font.\n",
      "  font.set_text(s, 0.0, flags=flags)\n",
      "C:\\ProgramData\\Anaconda3\\lib\\site-packages\\matplotlib\\backends\\backend_agg.py:240: RuntimeWarning: Glyph 44036 missing from current font.\n",
      "  font.set_text(s, 0.0, flags=flags)\n",
      "C:\\ProgramData\\Anaconda3\\lib\\site-packages\\matplotlib\\backends\\backend_agg.py:240: RuntimeWarning: Glyph 51116 missing from current font.\n",
      "  font.set_text(s, 0.0, flags=flags)\n",
      "C:\\ProgramData\\Anaconda3\\lib\\site-packages\\matplotlib\\backends\\backend_agg.py:240: RuntimeWarning: Glyph 44396 missing from current font.\n",
      "  font.set_text(s, 0.0, flags=flags)\n",
      "C:\\ProgramData\\Anaconda3\\lib\\site-packages\\matplotlib\\backends\\backend_agg.py:240: RuntimeWarning: Glyph 47588 missing from current font.\n",
      "  font.set_text(s, 0.0, flags=flags)\n",
      "C:\\ProgramData\\Anaconda3\\lib\\site-packages\\matplotlib\\backends\\backend_agg.py:240: RuntimeWarning: Glyph 51032 missing from current font.\n",
      "  font.set_text(s, 0.0, flags=flags)\n",
      "C:\\ProgramData\\Anaconda3\\lib\\site-packages\\matplotlib\\backends\\backend_agg.py:240: RuntimeWarning: Glyph 54693 missing from current font.\n",
      "  font.set_text(s, 0.0, flags=flags)\n"
     ]
    },
    {
     "data": {
      "text/plain": [
       "<seaborn.axisgrid.FacetGrid at 0x25b0907be50>"
      ]
     },
     "execution_count": 24,
     "metadata": {},
     "output_type": "execute_result"
    },
    {
     "name": "stderr",
     "output_type": "stream",
     "text": [
      "C:\\ProgramData\\Anaconda3\\lib\\site-packages\\matplotlib\\backends\\backend_agg.py:203: RuntimeWarning: Glyph 49324 missing from current font.\n",
      "  font.set_text(s, 0, flags=flags)\n",
      "C:\\ProgramData\\Anaconda3\\lib\\site-packages\\matplotlib\\backends\\backend_agg.py:203: RuntimeWarning: Glyph 50857 missing from current font.\n",
      "  font.set_text(s, 0, flags=flags)\n",
      "C:\\ProgramData\\Anaconda3\\lib\\site-packages\\matplotlib\\backends\\backend_agg.py:203: RuntimeWarning: Glyph 44592 missing from current font.\n",
      "  font.set_text(s, 0, flags=flags)\n",
      "C:\\ProgramData\\Anaconda3\\lib\\site-packages\\matplotlib\\backends\\backend_agg.py:203: RuntimeWarning: Glyph 44036 missing from current font.\n",
      "  font.set_text(s, 0, flags=flags)\n",
      "C:\\ProgramData\\Anaconda3\\lib\\site-packages\\matplotlib\\backends\\backend_agg.py:203: RuntimeWarning: Glyph 51116 missing from current font.\n",
      "  font.set_text(s, 0, flags=flags)\n",
      "C:\\ProgramData\\Anaconda3\\lib\\site-packages\\matplotlib\\backends\\backend_agg.py:203: RuntimeWarning: Glyph 44396 missing from current font.\n",
      "  font.set_text(s, 0, flags=flags)\n",
      "C:\\ProgramData\\Anaconda3\\lib\\site-packages\\matplotlib\\backends\\backend_agg.py:203: RuntimeWarning: Glyph 47588 missing from current font.\n",
      "  font.set_text(s, 0, flags=flags)\n",
      "C:\\ProgramData\\Anaconda3\\lib\\site-packages\\matplotlib\\backends\\backend_agg.py:203: RuntimeWarning: Glyph 51032 missing from current font.\n",
      "  font.set_text(s, 0, flags=flags)\n",
      "C:\\ProgramData\\Anaconda3\\lib\\site-packages\\matplotlib\\backends\\backend_agg.py:203: RuntimeWarning: Glyph 54693 missing from current font.\n",
      "  font.set_text(s, 0, flags=flags)\n"
     ]
    },
    {
     "data": {
      "image/png": "[encoded data removed]",
      "text/plain": [
       "<Figure size 360x360 with 1 Axes>"
      ]
     },
     "metadata": {
      "needs_background": "light"
     },
     "output_type": "display_data"
    }
   ],
   "source": [
    "sns.lmplot(y='재구매의향',x='사용기간',data=df)"
   ]
  },
  {
   "cell_type": "code",
   "execution_count": null,
   "metadata": {},
   "outputs": [],
   "source": []
  }
 ],
 "metadata": {
  "interpreter": {
   "hash": "b3ba2566441a7c06988d0923437866b63cedc61552a5af99d1f4fb67d367b25f"
  },
  "kernelspec": {
   "display_name": "Python 3.9.7 ('base')",
   "language": "python",
   "name": "python3"
  },
  "language_info": {
   "codemirror_mode": {
    "name": "ipython",
    "version": 3
   },
   "file_extension": ".py",
   "mimetype": "text/x-python",
   "name": "python",
   "nbconvert_exporter": "python",
   "pygments_lexer": "ipython3",
   "version": "3.9.7"
  },
  "orig_nbformat": 4
 },
 "nbformat": 4,
 "nbformat_minor": 2
}
