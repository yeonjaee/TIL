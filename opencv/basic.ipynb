{
 "cells": [
  {
   "cell_type": "code",
   "execution_count": 1,
   "id": "f4c5b817",
   "metadata": {},
   "outputs": [],
   "source": [
    "import sys\n",
    "import cv2\n",
    "import numpy as np"
   ]
  },
  {
   "cell_type": "code",
   "execution_count": 2,
   "id": "a1c7c904",
   "metadata": {},
   "outputs": [],
   "source": [
    "# cv2.imread(filename[, flags]) -> retval\n",
    "\n",
    "# retval\n",
    "    # numpy.nbarray: retval.ndim/shape/size/dtype\n",
    "    # dtype: uint8\n",
    "    # shape: gray영상의 경우 (h,w) 또는 color (h,w, 3) \n",
    "    # gray영상 : cv2.CV_8UC1 -> numpy.uint8\n",
    "    # color영상 : cv2.CV_8UC3 -> numpy.uint8"
   ]
  },
  {
   "cell_type": "code",
   "execution_count": 3,
   "id": "85c76a6d",
   "metadata": {},
   "outputs": [
    {
     "name": "stdout",
     "output_type": "stream",
     "text": [
      "type(img1): <class 'numpy.ndarray'>\n",
      "img1.shape: (480, 640)\n",
      "img2.shape: (853, 1280, 3)\n",
      "img1.dtype: uint8\n",
      "img2.dtype: uint8\n",
      "img1.shape length: 2\n",
      "img2.shape length: 3\n"
     ]
    }
   ],
   "source": [
    "# 영상 불러오기\n",
    "img1 = cv2.imread('fig/puppy.bmp', cv2.IMREAD_GRAYSCALE)\n",
    "img2 = cv2.imread('fig/puppy_1280_853.jpg', cv2.IMREAD_COLOR)\n",
    "\n",
    "if img1 is None or img2 is None:\n",
    "    print('Image load failed!')\n",
    "    sys.exit()\n",
    "\n",
    "\n",
    "# 영상의 속성 참조\n",
    "print('type(img1):', type(img1))\n",
    "print('img1.shape:', img1.shape)\n",
    "print('img2.shape:', img2.shape)\n",
    "print('img1.dtype:', img1.dtype)\n",
    "print('img2.dtype:', img2.dtype)\n",
    "\n",
    "print('img1.shape length:', len(img1.shape))\n",
    "print('img2.shape length:', len(img2.shape))"
   ]
  },
  {
   "cell_type": "markdown",
   "id": "38f56a0b",
   "metadata": {},
   "source": [
    "## 영상의 크기 참조"
   ]
  },
  {
   "cell_type": "code",
   "execution_count": 5,
   "id": "e2d5c8e7",
   "metadata": {},
   "outputs": [
    {
     "name": "stdout",
     "output_type": "stream",
     "text": [
      "img1 size: 640 x 480\n",
      "img2 size: 853 x 1280\n"
     ]
    }
   ],
   "source": [
    "h, w = img1.shape\n",
    "print('img1 size: {} x {}'.format(w, h))\n",
    "\n",
    "h, w = img2.shape[:2]\n",
    "print(f'img2 size: {h} x {w}')"
   ]
  },
  {
   "cell_type": "markdown",
   "id": "9598534a",
   "metadata": {},
   "source": [
    "## 영상의 픽셀값 참조"
   ]
  },
  {
   "cell_type": "code",
   "execution_count": null,
   "id": "799f67cc",
   "metadata": {},
   "outputs": [],
   "source": [
    "x = 230\n",
    "y = 320\n",
    "\n",
    "p1 =img1[y,x]\n",
    "print(p1)\n",
    "\n",
    "p2 = img2[y, x]\n",
    "print(p2)\n",
    "\n",
    "### 픽셀값 바꾸기\n",
    "img1[10:200, 10:200] = 0\n",
    "img2[10:200, 10:200] = (0, 0, 255)\n",
    "\n",
    "cv2.imshow('image', img1)\n",
    "cv2.imshow('image2',img2)\n",
    "\n",
    "cv2.waitKey()\n",
    "cv2.destroyAllWindows()"
   ]
  },
  {
   "cell_type": "markdown",
   "id": "c860de41",
   "metadata": {},
   "source": [
    "## 영상생성"
   ]
  },
  {
   "cell_type": "code",
   "execution_count": 2,
   "id": "fecc429e",
   "metadata": {},
   "outputs": [],
   "source": [
    "import numpy as np\n",
    "import cv2\n",
    "\n",
    "# 새 영상 생성하기\n",
    "\n",
    "img1 = np.random.randint(0, 255, (240, 320), dtype = np.uint8) # gray random scale \n",
    "img2 = np.zeros((240, 320, 3), dtype=np.uint8)    # color image\n",
    "img3 = np.ones((240, 320), dtype=np.uint8) * 255  # dark gray\n",
    "img4 = np.full((240, 320, 3), (0, 255, 255), dtype=np.uint8)  # yellow\n",
    "\n",
    "\n",
    "cv2.imshow('img1', img1)\n",
    "cv2.imshow('img2', img2)\n",
    "cv2.imshow('img3', img3)\n",
    "cv2.imshow('img4', img4)\n",
    "\n",
    "\n",
    "cv2.waitKey()\n",
    "cv2.destroyAllWindows()"
   ]
  },
  {
   "cell_type": "markdown",
   "id": "5f75a8f4",
   "metadata": {},
   "source": [
    "## 영상 복사"
   ]
  },
  {
   "cell_type": "code",
   "execution_count": 6,
   "id": "2405862f",
   "metadata": {
    "scrolled": true
   },
   "outputs": [
    {
     "name": "stdout",
     "output_type": "stream",
     "text": [
      "(480, 640, 3)\n",
      "uint8\n"
     ]
    }
   ],
   "source": [
    "# 영상 복사\n",
    "img1 = cv2.imread('fig/puppy.bmp', cv2.IMREAD_COLOR)\n",
    "# img1 = cv2.imread('HappyFish.jpg')\n",
    "\n",
    "if img1 is None:\n",
    "    print(\"image load failed\")\n",
    "    sys.exit()\n",
    "\n",
    "img2 = img1\n",
    "# img2 = img1[150:250, 200:500]\n",
    "\n",
    "img3 = img1.copy()\n",
    "# img2[:] = (0, 0, 255)\n",
    "\n",
    "img1[200:300,240:400] = (0, 255, 255)\n",
    "\n",
    "print(img1.shape)\n",
    "print(img1.dtype)\n",
    "\n",
    "cv2.imshow('img1', img1)\n",
    "cv2.imshow('img2', img2)\n",
    "cv2.imshow('img3', img3)\n",
    "\n",
    "cv2.waitKey()\n",
    "cv2.destroyAllWindows()\n"
   ]
  },
  {
   "cell_type": "markdown",
   "id": "df02c35a",
   "metadata": {},
   "source": [
    "## 부분 영상 추출"
   ]
  },
  {
   "cell_type": "code",
   "execution_count": 7,
   "id": "67827998",
   "metadata": {},
   "outputs": [],
   "source": [
    "img1 = cv2.imread('fig/puppy.bmp')\n",
    "\n",
    "img2 = img1[200:400, 300:500]  # numpy.ndarray의 슬라이싱\n",
    "img3 = img1[200:400, 300:500].copy()\n",
    "\n",
    "# img1.fill(255)\n",
    "# circle(img, center, radius, color[, thickness[, lineType[, shift]]]) -> img\n",
    "cv2.circle(img2, (100, 100), 50, (0, 0, 255), 3)\n",
    "\n",
    "cv2.imshow('img1', img1)\n",
    "cv2.imshow('img2', img2)\n",
    "cv2.imshow('img3', img3)\n",
    "\n",
    "cv2.waitKey(2000)\n",
    "cv2.destroyAllWindows()"
   ]
  },
  {
   "cell_type": "markdown",
   "id": "4af3102a",
   "metadata": {},
   "source": [
    "## 마스크 연산과 ROI"
   ]
  },
  {
   "cell_type": "code",
   "execution_count": 8,
   "id": "95a50d0b",
   "metadata": {},
   "outputs": [],
   "source": [
    "# 마스크 영상을 이용한 영상 합성 \n",
    "# cv2.copyTo(src, mask, dst = None) -> dst\n",
    "\n",
    "src = cv2.imread('fig/airplane.bmp', cv2.IMREAD_COLOR)\n",
    "mask = cv2.imread('fig/mask_plane.bmp', cv2.IMREAD_GRAYSCALE)\n",
    "dst = cv2.imread('fig/field.bmp', cv2.IMREAD_COLOR)\n",
    "\n",
    "if src is None or mask is None or dst is None:\n",
    "    print('Image read failed!')\n",
    "    sys.exit()\n",
    "    \n",
    "\n",
    "# 영상의 포맷과 형식이 같아야 함\n",
    "cv2.copyTo(src, mask, dst)\n",
    "# dst = cv2.copyTo(src, mask)\n",
    "\n",
    "# Using numpy\n",
    "# dst[mask > 0] = src[mask > 0]\n",
    "\n",
    "cv2.imshow('src', src)\n",
    "cv2.imshow('dst', dst)\n",
    "cv2.imshow('mask', mask)\n",
    "\n",
    "cv2.waitKey()\n",
    "cv2.destroyAllWindows()"
   ]
  },
  {
   "cell_type": "markdown",
   "id": "61dd28aa",
   "metadata": {},
   "source": [
    "## 송아지 합성"
   ]
  },
  {
   "cell_type": "code",
   "execution_count": 9,
   "id": "4d1ef271",
   "metadata": {},
   "outputs": [
    {
     "name": "stdout",
     "output_type": "stream",
     "text": [
      "(600, 600, 3)\n",
      "(1125, 1500, 3)\n"
     ]
    }
   ],
   "source": [
    "img1 = cv2.imread('fig/cow.png')\n",
    "img2 = cv2.imread('fig/green.png')\n",
    "img1_gray = cv2.cvtColor(img1, cv2.COLOR_BGR2GRAY)\n",
    "\n",
    "print(img1.shape)\n",
    "print(img2.shape)\n",
    "\n",
    "h, w = img1.shape[:2]\n",
    "\n",
    "img2 = cv2.resize(img2, (w, h), cv2.INTER_AREA)\n",
    "ret, mask = cv2.threshold(img1_gray, 244, 255, cv2.THRESH_BINARY_INV)\n",
    "\n",
    "cv2.copyTo(img1, mask, img2)\n",
    "\n",
    "cv2.imshow('img1', img1)\n",
    "cv2.imshow('img2', img2)\n",
    "cv2.imshow('img1_gray', img1_gray)\n",
    "cv2.imshow('mask', mask)\n",
    "\n",
    "\n",
    "cv2.waitKey()\n",
    "cv2.destroyAllWindows()"
   ]
  },
  {
   "cell_type": "markdown",
   "id": "e04ff7bc",
   "metadata": {},
   "source": [
    "## 알파 채널을 마스크 영상으로 이용"
   ]
  },
  {
   "cell_type": "code",
   "execution_count": 10,
   "id": "bece5737",
   "metadata": {},
   "outputs": [],
   "source": [
    "src = cv2.imread('fig/puppy.bmp', cv2.IMREAD_COLOR)\n",
    "sunglass = cv2.imread('fig/imgbin_sunglasses_1.png', cv2.IMREAD_UNCHANGED)\n",
    "\n",
    "sunglass = cv2.resize(sunglass, (300, 150))\n",
    "\n",
    "if src is None or sunglass is None:\n",
    "    print('Image read failed!')\n",
    "    sys.exit()\n",
    "\n",
    "\n",
    "mask = sunglass[:, :, -1]    # mask는 알파 채널로 만든 마스크 영상\n",
    "glass = sunglass[:, :, 0:3]  # glass는 b, g, r 3채널로 구성된 컬러 영상\n",
    "\n",
    "h, w = mask.shape[:2]\n",
    "crop = src[120:120+h, 220:220+w]  # glass mask와 같은 크기의 부분 영상 추출\n",
    "\n",
    "cv2.copyTo(glass, mask, crop)\n",
    "# crop[mask > 0] = (0, 0, 255)\n",
    "\n",
    "cv2.imshow('src', src)\n",
    "cv2.imshow('glass', glass)\n",
    "cv2.imshow('mask', mask)\n",
    "cv2.imshow('crop', crop)\n",
    "\n",
    "# cv2.imwrite('puppy_sunglass.bmp', src)\n",
    "\n",
    "cv2.waitKey()\n",
    "cv2.destroyAllWindows()"
   ]
  },
  {
   "cell_type": "markdown",
   "id": "37b2e61d",
   "metadata": {},
   "source": [
    "## OpenCV 그리기 함수"
   ]
  },
  {
   "cell_type": "code",
   "execution_count": 11,
   "id": "7dfffbee",
   "metadata": {},
   "outputs": [],
   "source": [
    "# cv2.line(img, pt1, pt2, color, thickness = None, lineType = None, shift = None) -> img\n",
    "# flags\n",
    "    # img:그림을 그릴 영상\n",
    "    # pt1, pt2: 직선의 시작점, 끝점\n",
    "    # color: 직선의 칼라 (B,G,R)의 튜플\n",
    "    # thinkness: 선두께, 기본은= 1\n",
    "    # lineType: cv2.LINE_4, cv2.LINE_8, cv2.LINE_AA\n",
    "    \n",
    "# cv2.rectangle(img, pt1, pt2, color, thickness = None, lineType = None) -> img\n",
    "   # pt1 :좌측 상단,  pt2: 우측하단\n",
    "# cv2.rectangle(img, rect, color, thickness = None, lineType = None) -> img\n",
    "    # rect: 사각형의 위치 정보 (x, y, w, h)\n",
    "    \n",
    "    \n",
    "# cv2.circle(img, center, radius, color, thickness = None, lineType = None) -> img\n",
    "    # center: 원의 중심좌표 (x, y)\n",
    "    # radius : 원의 반지름\n",
    "\n",
    "# cv2.ellips(img, center, axes, angle, startAngle, endAngle, color[, thickness[, lineType[, shift]]]) -> img\n",
    "    # center: 원의 중심좌표 (x, y)\n",
    "    # axis: 축의 반지름(x, y)\n",
    "    # angle: 타원의 기울기 (예, 10, 오른쪽으로 10도 기울어짐)\n",
    "    # startAngle: 타원을 그리는 시작 각도 (3시 방향이 0도)\n",
    "    # endAngle: 타원을 그리는 종료 각도\n",
    "        \n",
    "# cv2.polylines(img, pts, isClosed, color, thickness = None, lineType = None) -> img\n",
    "    # center: 다각형 점들의 array\n",
    "    # isClosed : True for 폐곡선"
   ]
  },
  {
   "cell_type": "code",
   "execution_count": 11,
   "id": "d6b1ab1e",
   "metadata": {},
   "outputs": [],
   "source": [
    "import numpy as np\n",
    "import cv2\n",
    "\n",
    "img = np.full((600, 1200, 3), 255, np.uint8)\n",
    "\n",
    "# x, y 좌표순서\n",
    "cv2.line(img, (50, 50), (300, 50), (0, 0, 255), 5)\n",
    "cv2.line(img, (300, 50), (150, 300), (0, 0, 255), 5)\n",
    "cv2.line(img, (400, 50), (400, 300), (0, 0, 255), 5)\n",
    "cv2.arrowedLine(img, (50, 50), (300, 50), (0, 0, 255), 5)\n",
    "\n",
    "\n",
    "cv2.rectangle(img, (50, 410, 350, 100), (0, 255, 0), 2)\n",
    "# cv2.rectangle(img, (70, 220), (180, 280), (0, 128, 0), -1)\n",
    "\n",
    "cv2.circle(img, (600, 200), 100, (255, 255, 0), 3, cv2.LINE_AA)\n",
    "# cv2.circle(img, (300, 100), 60, (255, 0, 0), -1, cv2.LINE_8)\n",
    "\n",
    "cv2.ellipse(img, (500, 100), (100, 50), 10, 0, 360, (255, 0, 0), 2)\n",
    "\n",
    "pts = np.array([[250, 200], [300, 200], [350, 300], [250, 300]])\n",
    "cv2.polylines(img, [pts], True, (255, 0, 255), 2, cv2.LINE_AA)\n",
    "\n",
    "text = 'OpenCV version ' + cv2.__version__\n",
    "cv2.putText(img, text, (800, 100), cv2.FONT_HERSHEY_SIMPLEX, 0.8, \n",
    "            (0, 0, 255), 1, cv2.LINE_AA)\n",
    "\n",
    "cv2.imshow(\"img\", img)\n",
    "cv2.waitKey()\n",
    "cv2.destroyAllWindows()"
   ]
  },
  {
   "cell_type": "markdown",
   "id": "3c4be315",
   "metadata": {},
   "source": [
    "## 카메라와 동영상 처리하기 "
   ]
  },
  {
   "cell_type": "code",
   "execution_count": 13,
   "id": "77abefed",
   "metadata": {},
   "outputs": [],
   "source": [
    "# cv2.VideoCapture(index/filename, apiPreference=None) -> retval\n",
    "# index: camera_id or filename\n",
    "# apiPreference=None\n",
    "\n",
    "# cv2.VideoCapture.open(index/filename, apiPreference=None) -> retval\n",
    "# retval: True or False\n",
    "\n",
    "# cv2.VideoCapture.read(image=None) -> retval, image\n",
    "# retval : True or False\n",
    "# image: Frame \n",
    "\n",
    "# cv2.VideoCapture.get() -> retval\n",
    "\n",
    "# cv2.Canny(image, threshold1, threshold2)\n",
    "# image:입력영상\n",
    "# threshold1 = low value, threshold2 =  high value"
   ]
  },
  {
   "cell_type": "code",
   "execution_count": 2,
   "id": "e35dfdeb",
   "metadata": {},
   "outputs": [],
   "source": [
    "# 카메라 열기\n",
    "cap = cv2.VideoCapture(0)\n",
    "\n",
    "if not cap.isOpened(): #True or False\n",
    "    print(\"Videocap open failed!\")\n",
    "    cap.release()\n",
    "    sys.exit()\n",
    "\n",
    "# 카메라 프레임 크기 출력\n",
    "\n",
    "# width = round(cap.get(cv2.CAP_PROP_FRAME_WIDTH))\n",
    "# height = round(cap.get(cv2.CAP_PROP_FRAME_HEIGHT))\n",
    "\n",
    "# print('Frame width:', int(cap.get(cv2.CAP_PROP_FRAME_WIDTH)))\n",
    "# print('Frame height:', int(cap.get(cv2.CAP_PROP_FRAME_HEIGHT)))\n",
    "\n",
    "# cap.set(cv2.CAP_PROP_FRAME_WIDTH, 320)\n",
    "# cap.set(cv2.CAP_PROP_FRAME_HEIGHT, 240)\n",
    "\n",
    "# 카메라 프레임 처리\n",
    "while True:\n",
    "    \n",
    "    ret, frame = cap.read()\n",
    "\n",
    "    if not ret:\n",
    "        print('Video read failed')\n",
    "        break\n",
    "        \n",
    "\n",
    "#     edge = cv2.Canny(frame, 50, 150)       \n",
    "#     inversed = ~edge  # 반전    \n",
    "\n",
    "    cv2.imshow('frame', frame)\n",
    "#     cv2.imshow('frame1', edge)\n",
    "#     cv2.imshow('inversed', inversed)\n",
    "\n",
    "    if cv2.waitKey(10) == 27:\n",
    "        break\n",
    "\n",
    "cap.release()\n",
    "cv2.destroyAllWindows()"
   ]
  },
  {
   "cell_type": "markdown",
   "id": "208e069d",
   "metadata": {},
   "source": [
    "## 카메라 동영상 저장하기"
   ]
  },
  {
   "cell_type": "code",
   "execution_count": 15,
   "id": "7d865c06",
   "metadata": {},
   "outputs": [],
   "source": [
    "# cv2.VideoWriter(filename, fourcc, fps, framesize, isColor=None) -> retval\n",
    "# filename: 저장할 이름\n",
    "# fourcc: cv2.VideoWriter_fourcc(*'DIVX') 를 사용\n",
    "# fps: 초당 프레임 수 e.g. 30\n",
    "# frameSize: 프레임 크기 e.g., [640, 480])\n",
    "# isColor: Color 영상\n",
    "#"
   ]
  },
  {
   "cell_type": "code",
   "execution_count": 16,
   "id": "fb18bd74",
   "metadata": {},
   "outputs": [],
   "source": [
    "# import sys\n",
    "# import cv2\n",
    "\n",
    "cap = cv2.VideoCapture(0)\n",
    "\n",
    "if not cap.isOpened():\n",
    "    print(\"Camera open failed!\")\n",
    "    sys.exit()\n",
    "\n",
    "# cap.get(cv2.CAP_PROP_FRAME_WIDTH) -> float type 반환\n",
    "w = round(cap.get(cv2.CAP_PROP_FRAME_WIDTH))\n",
    "h = round(cap.get(cv2.CAP_PROP_FRAME_HEIGHT))\n",
    "fps = cap.get(cv2.CAP_PROP_FPS) #\n",
    "\n",
    "# fourcc = cv2.VideoWriter_fourcc(*'MJPG')\n",
    "fourcc = cv2.VideoWriter_fourcc(*'DIVX') # *'DIVX' == 'D', 'I', 'V', 'X'\n",
    "\n",
    "\n",
    "out = cv2.VideoWriter('output.avi', fourcc, fps, (w, h))\n",
    "\n",
    "if not out.isOpened():\n",
    "    print('File open failed!')\n",
    "    cap.release()\n",
    "    sys.exit()\n",
    "\n",
    "while True:\n",
    "    ret, frame = cap.read()\n",
    "\n",
    "    if not ret:\n",
    "        print('Video read failed')\n",
    "        break\n",
    "\n",
    "#     inversed = ~frame\n",
    "#     edge = cv2.Canny(frame, 50, 150)\n",
    "#     edge_color = cv2.cvtColor(edge, cv2.COLOR_GRAY2BGR)\n",
    "\n",
    "    out.write(frame) #소리는 capture가 안됨\n",
    "#     out.write(inversed)\n",
    "#     out.write(edge_color)\n",
    "\n",
    "    cv2.imshow('frame', frame)\n",
    "#     cv2.imshow('inversed', inversed)\n",
    "#     cv2.imshow('edge', edge)\n",
    "\n",
    "    if cv2.waitKey(delay) == 27:\n",
    "        break\n",
    "\n",
    "\n",
    "cap.release()\n",
    "out.release()\n",
    "\n",
    "cv2.destroyAllWindows()"
   ]
  },
  {
   "cell_type": "markdown",
   "id": "de3c627c",
   "metadata": {},
   "source": [
    "## 키보드 이벤트 처리하기\n",
    "* https://en.wikipedia.org/wiki/File:ASCII-Table.svg\n",
    "* https://study-with-yuls.tistory.com/315?category=1004571"
   ]
  },
  {
   "cell_type": "code",
   "execution_count": 2,
   "id": "32c4647e",
   "metadata": {},
   "outputs": [
    {
     "name": "stdout",
     "output_type": "stream",
     "text": [
      "Image load failed!\n"
     ]
    },
    {
     "ename": "NameError",
     "evalue": "name 'sys' is not defined",
     "output_type": "error",
     "traceback": [
      "\u001b[1;31m---------------------------------------------------------------------------\u001b[0m",
      "\u001b[1;31mNameError\u001b[0m                                 Traceback (most recent call last)",
      "\u001b[1;32m<ipython-input-2-d9b19c6a6797>\u001b[0m in \u001b[0;36m<module>\u001b[1;34m\u001b[0m\n\u001b[0;32m      7\u001b[0m \u001b[1;32mif\u001b[0m \u001b[0mimg\u001b[0m \u001b[1;32mis\u001b[0m \u001b[1;32mNone\u001b[0m\u001b[1;33m:\u001b[0m\u001b[1;33m\u001b[0m\u001b[1;33m\u001b[0m\u001b[0m\n\u001b[0;32m      8\u001b[0m     \u001b[0mprint\u001b[0m\u001b[1;33m(\u001b[0m\u001b[1;34m'Image load failed!'\u001b[0m\u001b[1;33m)\u001b[0m\u001b[1;33m\u001b[0m\u001b[1;33m\u001b[0m\u001b[0m\n\u001b[1;32m----> 9\u001b[1;33m     \u001b[0msys\u001b[0m\u001b[1;33m.\u001b[0m\u001b[0mexit\u001b[0m\u001b[1;33m(\u001b[0m\u001b[1;33m)\u001b[0m\u001b[1;33m\u001b[0m\u001b[1;33m\u001b[0m\u001b[0m\n\u001b[0m\u001b[0;32m     10\u001b[0m \u001b[1;33m\u001b[0m\u001b[0m\n\u001b[0;32m     11\u001b[0m \u001b[0mcv2\u001b[0m\u001b[1;33m.\u001b[0m\u001b[0mnamedWindow\u001b[0m\u001b[1;33m(\u001b[0m\u001b[1;34m'image'\u001b[0m\u001b[1;33m)\u001b[0m\u001b[1;33m\u001b[0m\u001b[1;33m\u001b[0m\u001b[0m\n",
      "\u001b[1;31mNameError\u001b[0m: name 'sys' is not defined"
     ]
    }
   ],
   "source": [
    "# import sys\n",
    "# import numpy as np\n",
    "# import cv2\n",
    "\n",
    "img = cv2.imread('cat.bmp', cv2.IMREAD_GRAYSCALE)\n",
    "\n",
    "if img is None:\n",
    "    print('Image load failed!')\n",
    "    sys.exit()\n",
    "\n",
    "cv2.namedWindow('image')\n",
    "cv2.imshow('image', img)\n",
    "\n",
    "# cv2.waitKeyEx()\n",
    "\n",
    "while True:\n",
    "    \n",
    "    keycode = cv2.waitKey()\n",
    "    \n",
    "    if keycode == ord('i'):\n",
    "        img = ~img        \n",
    "        cv2.imshow('image', img)\n",
    "    \n",
    "    elif keycode == ord('e'):\n",
    "        img = cv2.Canny(img, 50, 150)\n",
    "        \n",
    "        cv2.imshow('image', img)\n",
    "    \n",
    "    elif keycode == 27:\n",
    "        break\n",
    "\n",
    "cv2.destroyAllWindows()"
   ]
  },
  {
   "cell_type": "markdown",
   "id": "c97babf1",
   "metadata": {},
   "source": [
    "## 마우스 이벤트 처리하기"
   ]
  },
  {
   "cell_type": "code",
   "execution_count": null,
   "id": "a57c9be4",
   "metadata": {},
   "outputs": [],
   "source": [
    "# cv2.setMouseCallback(windowName, onMouse, param = None) -> None\n",
    "    # windowName: 마우스이벤트를 수행할 창 이름\n",
    "    # onMouse: 마우스 이벤트 콜벡함수\n",
    "    # param: 콜백함수에 전달할 데이터\n",
    "\n",
    "# onMouse(event, x, y, flags, param) -> None\n",
    "# event: 마우스 이벤트 종류 e.g., cv2.EVENT_LBUTTONDOWN\n",
    "# x, y : 창을 기준으로 이벤트 발생좌표\n",
    "# flags: 이벤트시 발생 상태 e.g., \"ctrl\"\n",
    "# param: cv2.setMouseCallback()함수에서 설정한 데이터\n",
    "\n",
    "# 마우스 event와 flags reference\n",
    "# docs/opencv.org/master -> MouseEventTypes cv, MouseEventFlags cv\n"
   ]
  },
  {
   "cell_type": "code",
   "execution_count": null,
   "id": "253acca3",
   "metadata": {},
   "outputs": [],
   "source": [
    "# import sys\n",
    "# import numpy as np\n",
    "# import cv2\n",
    "\n",
    "\n",
    "oldx = oldy = -1\n",
    "\n",
    "def call_mouse(event, x, y, flags, param):\n",
    "#     global oldx, oldy\n",
    "\n",
    "    if event == cv2.EVENT_LBUTTONDOWN:\n",
    "        oldx, oldy = x, y\n",
    "        print('EVENT_LBUTTONDOWN: %d, %d' % (x, y))\n",
    "\n",
    "    elif event == cv2.EVENT_LBUTTONUP:\n",
    "        print('EVENT_LBUTTONUP: %d, %d' % (x, y))\n",
    "\n",
    "    elif event == cv2.EVENT_MOUSEMOVE:\n",
    "        if flags & cv2.EVENT_FLAG_LBUTTON:\n",
    "            cv2.line(img, (oldx, oldy), (x, y), (0, 0, 255), 4, cv2.LINE_AA)\n",
    "            cv2.imshow('image', img)\n",
    "            oldx, oldy = x, y\n",
    "\n",
    "\n",
    "img = np.ones((480, 640, 3), dtype=np.uint8) * 255\n",
    "\n",
    "cv2.namedWindow('image')\n",
    "cv2.setMouseCallback('image', call_mouse, img) #항상 창을 띄우고 호출\n",
    "\n",
    "cv2.imshow('image', img)\n",
    "cv2.waitKey()\n",
    "\n",
    "cv2.destroyAllWindows()\n"
   ]
  },
  {
   "cell_type": "markdown",
   "id": "b274c855",
   "metadata": {},
   "source": [
    "## 트랙바 사용하기"
   ]
  },
  {
   "cell_type": "code",
   "execution_count": null,
   "id": "0987df91",
   "metadata": {},
   "outputs": [],
   "source": [
    "# createTrackbar(trackbarName, windowName, value, count, onChange) -> None\n",
    "# trackbarName: 트랙바 이름\n",
    "# windowName : 트랙바를 생성할 창 이름\n",
    "# value : 트랙바 위치 초기값\n",
    "# count : 트랙바 최댓값, 최솟값은 0\n",
    "# onChange :callback 함수 e.g., onChange(pos) 위치를 정수형태로 전달"
   ]
  },
  {
   "cell_type": "code",
   "execution_count": null,
   "id": "e3347a27",
   "metadata": {},
   "outputs": [],
   "source": [
    "# import numpy as np\n",
    "# import cv2\n",
    "\n",
    "\n",
    "def call_trackbar(pos):\n",
    "    print(pos)\n",
    "    value = 256\n",
    "#     if value >= 255:\n",
    "#         value = 255\n",
    "#     value = np.clip(value,0,255)\n",
    "\n",
    "    img[:] = value\n",
    "    cv2.imshow('image', img)\n",
    "\n",
    "\n",
    "img = np.zeros((480, 640), np.uint8)\n",
    "cv2.namedWindow('image')\n",
    "cv2.createTrackbar('level', 'image', 0, 256, call_trackbar) # 창이 생성된 후 호출\n",
    "\n",
    "cv2.imshow('image', img)\n",
    "cv2.waitKey()\n",
    "cv2.destroyAllWindows()"
   ]
  }
 ],
 "metadata": {
  "interpreter": {
   "hash": "ad2bdc8ecc057115af97d19610ffacc2b4e99fae6737bb82f5d7fb13d2f2c186"
  },
  "kernelspec": {
   "display_name": "Python 3.9.7 ('base')",
   "language": "python",
   "name": "python3"
  },
  "language_info": {
   "codemirror_mode": {
    "name": "ipython",
    "version": 3
   },
   "file_extension": ".py",
   "mimetype": "text/x-python",
   "name": "python",
   "nbconvert_exporter": "python",
   "pygments_lexer": "ipython3",
   "version": "3.9.7"
  }
 },
 "nbformat": 4,
 "nbformat_minor": 5
}
