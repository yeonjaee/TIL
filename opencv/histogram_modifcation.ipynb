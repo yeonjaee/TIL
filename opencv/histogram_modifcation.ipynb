{
 "cells": [
  {
   "cell_type": "markdown",
   "id": "8f60d2f7",
   "metadata": {},
   "source": [
    "# 히스토그램 변환  (Histogram modification)"
   ]
  },
  {
   "cell_type": "markdown",
   "id": "12fb9283",
   "metadata": {},
   "source": [
    "## 영상의 명암비 조절 (Histgram stretching)"
   ]
  },
  {
   "cell_type": "code",
   "execution_count": null,
   "id": "d1c104b5",
   "metadata": {},
   "outputs": [],
   "source": [
    "# cv2.normalize(src, dst=None, alpha=None, beta=None, norm_type=None, dtype=None, mask=None) -> dst\n",
    "# src: 입력영상\n",
    "# dst: 결과영상\n",
    "# alpha: 정규화 최소값 (예, 0)\n",
    "# beta: 정규화 최댓값 (예, 155)\n",
    "# norm_type: cv2.NORM_MINMAX\n",
    "# dtype =  -1, src와 같은 type"
   ]
  },
  {
   "cell_type": "code",
   "execution_count": 1,
   "id": "a6bf5969",
   "metadata": {},
   "outputs": [
    {
     "name": "stdout",
     "output_type": "stream",
     "text": [
      "113.0 213.0\n",
      "0.0 255.0\n"
     ]
    }
   ],
   "source": [
    "import sys\n",
    "import numpy as np\n",
    "import cv2\n",
    "\n",
    "\n",
    "src = cv2.imread('fig/Hawkes.jpg', cv2.IMREAD_GRAYSCALE)\n",
    "\n",
    "if src is None:\n",
    "    print('Image load failed!')\n",
    "    sys.exit()\n",
    "\n",
    "# minMaxLoc(src[, mask]) -> minVal, maxVal, minLoc, maxLoc\n",
    "smin, smax, _, _ = cv2.minMaxLoc(src)\n",
    "print(smin, smax)\n",
    "# dst = cv2.normalize(src, None, 0, 255, cv2.NORM_MINMAX, -1)\n",
    "dst = np.clip(255*(src-smin)/(smax-smin) + 0, 0, 255).astype(np.uint8)\n",
    "\n",
    "# dst = (255*(src-smin)/(smax-smin) + 0)\n",
    "# dst = dst.astype(np.uint8)\n",
    "\n",
    "dmin, dmax, _, _ = cv2.minMaxLoc(dst)\n",
    "print(dmin, dmax)\n",
    "\n",
    "cv2.imshow('src', src)\n",
    "cv2.imshow('dst', dst)\n",
    "cv2.waitKey()\n",
    "\n",
    "cv2.destroyAllWindows()\n"
   ]
  },
  {
   "cell_type": "markdown",
   "id": "e8c5427b",
   "metadata": {},
   "source": [
    "## 히스토그램 평활화"
   ]
  },
  {
   "cell_type": "code",
   "execution_count": null,
   "id": "88462ac3",
   "metadata": {},
   "outputs": [],
   "source": [
    "# equalizeHist(src, dst=None) -> dst\n",
    "# src: 입력영상,gray scale 영상만 가능"
   ]
  },
  {
   "cell_type": "code",
   "execution_count": 3,
   "id": "3ecc2758",
   "metadata": {},
   "outputs": [],
   "source": [
    "import sys\n",
    "import numpy as np\n",
    "import cv2\n",
    "\n",
    "\n",
    "# 그레이스케일 영상의 히스토그램 평활화\n",
    "src = cv2.imread('fig/Hawkes.jpg', cv2.IMREAD_GRAYSCALE)\n",
    "\n",
    "if src is None:\n",
    "    print('Image load failed!')\n",
    "    sys.exit()\n",
    "\n",
    "dst = cv2.equalizeHist(src)\n",
    "\n",
    "cv2.imshow('src', src)\n",
    "cv2.imshow('dst', dst)\n",
    "cv2.waitKey()\n",
    "\n",
    "cv2.destroyAllWindows()\n",
    "\n",
    "# 컬러 영상의 히스토그램 평활화\n",
    "src = cv2.imread('fig/field.bmp')\n",
    "\n",
    "if src is None:\n",
    "    print('Image load failed!')\n",
    "    sys.exit()\n",
    "\n",
    "src_ycrcb = cv2.cvtColor(src, cv2.COLOR_BGR2YCrCb)\n",
    "ycrcb_split = cv2.split(src_ycrcb) # list ret\n",
    "\n",
    "# 밝기 성분에 대해서만 히스토그램 평활화 수행\n",
    "ycrcb_split[0] = cv2.equalizeHist(ycrcb_split[0])\n",
    "\n",
    "# dst_ycrcb = cv2.merge(ycrcb_split)\n",
    "dst = cv2.cvtColor(dst_ycrcb, cv2.COLOR_YCrCb2BGR)\n",
    "\n",
    "cv2.imshow('src', src)\n",
    "cv2.imshow('dst', dst)\n",
    "cv2.waitKey()\n",
    "\n",
    "cv2.destroyAllWindows()\n",
    "\n",
    "## 히스토그램 평활화를 통해서 개선할 수 있는 영상을 찾고 평활화 수행"
   ]
  },
  {
   "cell_type": "markdown",
   "id": "30bcfd48",
   "metadata": {},
   "source": [
    "## 특정 색상 영역 찾아 내기"
   ]
  },
  {
   "cell_type": "code",
   "execution_count": null,
   "id": "5f9c7bbb",
   "metadata": {},
   "outputs": [],
   "source": [
    "# inRange(src, lowerb, upperb[, dst]) -> dst\n",
    "# src: 입력영상\n",
    "# lowerb: 하한값\n",
    "# upperb: 상한값"
   ]
  },
  {
   "cell_type": "code",
   "execution_count": 7,
   "id": "3d86c584",
   "metadata": {},
   "outputs": [],
   "source": [
    "import sys\n",
    "import numpy as np\n",
    "import cv2\n",
    "\n",
    "\n",
    "src = cv2.imread('fig/candies.png')\n",
    "# src = cv2.imread('fig/candies2.png')\n",
    "\n",
    "if src is None:\n",
    "    print('Image load failed!')\n",
    "    sys.exit()\n",
    "\n",
    "src_hsv = cv2.cvtColor(src, cv2.COLOR_BGR2HSV)\n",
    "\n",
    "dst1 = cv2.inRange(src, (0, 128, 0), (100, 255, 100)) # b, g, r\n",
    "dst2 = cv2.inRange(src_hsv, (50, 150, 0), (80, 255, 255)) # h, s, v\n",
    "\n",
    "cv2.imshow('src', src)\n",
    "cv2.imshow('dst1', dst1)\n",
    "cv2.imshow('dst2', dst2)\n",
    "\n",
    "cv2.waitKey()\n",
    "\n",
    "cv2.destroyAllWindows()"
   ]
  },
  {
   "cell_type": "code",
   "execution_count": 2,
   "id": "77c7c0e9",
   "metadata": {},
   "outputs": [],
   "source": [
    "## 트랙바를 이용해서 색상 찾기\n",
    "\n",
    "import sys\n",
    "import numpy as np\n",
    "import cv2\n",
    "\n",
    "\n",
    "src = cv2.imread('fig/candies.png')\n",
    "\n",
    "if src is None:\n",
    "    print('Image load failed!')\n",
    "    sys.exit()\n",
    "\n",
    "src_hsv = cv2.cvtColor(src, cv2.COLOR_BGR2HSV)\n",
    "\n",
    "def on_trackbar(pos):\n",
    "    hmin = cv2.getTrackbarPos('H_min', 'dst')\n",
    "    hmax = cv2.getTrackbarPos('H_max', 'dst')\n",
    "#     sat = cv2.getTrackbarPos('sat', 'dst')\n",
    "    \n",
    "    dst = cv2.inRange(src_hsv, (hmin, 150, 0), (hmax, 255, 255))\n",
    "#     dst = cv2.inRange(src_hsv, (hmin, sat, 0), (hmax, 255, 255))\n",
    "    cv2.imshow('dst', dst)\n",
    "\n",
    "\n",
    "cv2.imshow('src', src)\n",
    "cv2.namedWindow('dst')\n",
    "\n",
    "cv2.createTrackbar('H_min', 'dst', 50, 179, on_trackbar)\n",
    "cv2.createTrackbar('H_max', 'dst', 80, 179, on_trackbar)\n",
    "# cv2.createTrackbar('sat', 'dst', 150, 255, call_trackbar)\n",
    "\n",
    "on_trackbar(0)\n",
    "\n",
    "cv2.waitKey()\n",
    "\n",
    "cv2.destroyAllWindows()"
   ]
  },
  {
   "cell_type": "markdown",
   "id": "7533102a",
   "metadata": {},
   "source": [
    "## 히스토그램 역투영"
   ]
  },
  {
   "cell_type": "code",
   "execution_count": null,
   "id": "57ffef6d",
   "metadata": {},
   "outputs": [],
   "source": [
    "# selectROI(windowName, img[, showCrosshair[, fromCenter]]) -> retval\n",
    "    # retval:  x(왼쪽 상단), y(왼쪽상단), w (넓이), h(높이)\n",
    "\n",
    "# calcBackProject(images, channels, hist, ranges, scale[, dst]) -> dst"
   ]
  },
  {
   "cell_type": "code",
   "execution_count": 1,
   "id": "0811cffe",
   "metadata": {},
   "outputs": [],
   "source": [
    "import sys\n",
    "import numpy as np\n",
    "import cv2\n",
    "\n",
    "\n",
    "# 입력 영상에서 ROI를 지정하고, 히스토그램 계산\n",
    "\n",
    "src = cv2.imread('fig/cropland.png')\n",
    "\n",
    "if src is None:\n",
    "    print('Image load failed!')\n",
    "    sys.exit()\n",
    "\n",
    "x, y, w, h = cv2.selectROI(src)\n",
    "\n",
    "src_ycrcb = cv2.cvtColor(src, cv2.COLOR_BGR2YCrCb)\n",
    "crop = src_ycrcb[y:y+h, x:x+w]\n",
    "\n",
    "# 0 번은 조명/밝기 정보, [1,2] = Cr, Cb channel\n",
    "channels = [1, 2]\n",
    "cr_bins = 256 \n",
    "cb_bins = 256\n",
    "histSize = [cr_bins, cb_bins]\n",
    "cr_range = [0, 256]\n",
    "cb_range = [0, 256]\n",
    "\n",
    "# [0, 256, 0, 256]\n",
    "ranges = cr_range + cb_range\n",
    "\n",
    "# mask = None\n",
    "hist = cv2.calcHist([crop], channels, None, histSize, ranges)\n",
    "hist_norm = cv2.normalize(cv2.log(hist+1), None, 0, 255, cv2.NORM_MINMAX, cv2.CV_8U)\n",
    "\n",
    "# 입력 영상 전체에 대해 히스토그램 역투영\n",
    "backproj = cv2.calcBackProject([src_ycrcb], channels, hist, ranges, 1)\n",
    "dst = cv2.copyTo(src, backproj)\n",
    "\n",
    "cv2.imshow('backproj', backproj)\n",
    "cv2.imshow('hist_norm', hist_norm)\n",
    "cv2.imshow('dst', dst)\n",
    "\n",
    "cv2.waitKey()\n",
    "cv2.destroyAllWindows()\n"
   ]
  }
 ],
 "metadata": {
  "kernelspec": {
   "display_name": "Python 3 (ipykernel)",
   "language": "python",
   "name": "python3"
  },
  "language_info": {
   "codemirror_mode": {
    "name": "ipython",
    "version": 3
   },
   "file_extension": ".py",
   "mimetype": "text/x-python",
   "name": "python",
   "nbconvert_exporter": "python",
   "pygments_lexer": "ipython3",
   "version": "3.9.7"
  }
 },
 "nbformat": 4,
 "nbformat_minor": 5
}
