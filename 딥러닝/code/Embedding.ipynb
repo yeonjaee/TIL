{
  "nbformat": 4,
  "nbformat_minor": 0,
  "metadata": {
    "colab": {
      "name": "Untitled1.ipynb",
      "provenance": []
    },
    "kernelspec": {
      "name": "python3",
      "display_name": "Python 3"
    },
    "language_info": {
      "name": "python"
    }
  },
  "cells": [
    {
      "cell_type": "code",
      "execution_count": 1,
      "metadata": {
        "id": "PGHEkxqYrwVk"
      },
      "outputs": [],
      "source": [
        "from tensorflow.keras.datasets import imdb"
      ]
    },
    {
      "cell_type": "code",
      "source": [
        "num_words = 10000 #데이터셋에서 가장 빈번하게 사용되는 단어의 개수"
      ],
      "metadata": {
        "id": "t9g7CuSvr2Jo"
      },
      "execution_count": 2,
      "outputs": []
    },
    {
      "cell_type": "code",
      "source": [
        "(X_train,y_train), (X_test,y_test)  = imdb.load_data(num_words=num_words)"
      ],
      "metadata": {
        "colab": {
          "base_uri": "https://localhost:8080/"
        },
        "id": "b3SEF0z6r9Id",
        "outputId": "660175a4-d23e-4c87-a442-d10ae6d56fef"
      },
      "execution_count": 3,
      "outputs": [
        {
          "output_type": "stream",
          "name": "stdout",
          "text": [
            "Downloading data from https://storage.googleapis.com/tensorflow/tf-keras-datasets/imdb.npz\n",
            "17465344/17464789 [==============================] - 0s 0us/step\n",
            "17473536/17464789 [==============================] - 0s 0us/step\n"
          ]
        }
      ]
    },
    {
      "cell_type": "code",
      "source": [
        "print(X_train.shape, y_train.shape)\n",
        "print(X_test.shape, y_test.shape)"
      ],
      "metadata": {
        "colab": {
          "base_uri": "https://localhost:8080/"
        },
        "id": "QpnQ8S0PsDFl",
        "outputId": "8672d3ca-e8b8-42e1-c969-b8db1999b345"
      },
      "execution_count": 4,
      "outputs": [
        {
          "output_type": "stream",
          "name": "stdout",
          "text": [
            "(25000,) (25000,)\n",
            "(25000,) (25000,)\n"
          ]
        }
      ]
    },
    {
      "cell_type": "code",
      "source": [
        "# 첫번째 데이터 확인\n",
        "# 1은 긍정, 0은 부정\n",
        "print(X_train[0])\n",
        "print()\n",
        "print(y_train[0])"
      ],
      "metadata": {
        "colab": {
          "base_uri": "https://localhost:8080/"
        },
        "id": "u8ZRAcltsKcl",
        "outputId": "e5037c92-58fc-449d-c9b6-f77b2f140694"
      },
      "execution_count": 6,
      "outputs": [
        {
          "output_type": "stream",
          "name": "stdout",
          "text": [
            "[1, 14, 22, 16, 43, 530, 973, 1622, 1385, 65, 458, 4468, 66, 3941, 4, 173, 36, 256, 5, 25, 100, 43, 838, 112, 50, 670, 2, 9, 35, 480, 284, 5, 150, 4, 172, 112, 167, 2, 336, 385, 39, 4, 172, 4536, 1111, 17, 546, 38, 13, 447, 4, 192, 50, 16, 6, 147, 2025, 19, 14, 22, 4, 1920, 4613, 469, 4, 22, 71, 87, 12, 16, 43, 530, 38, 76, 15, 13, 1247, 4, 22, 17, 515, 17, 12, 16, 626, 18, 2, 5, 62, 386, 12, 8, 316, 8, 106, 5, 4, 2223, 5244, 16, 480, 66, 3785, 33, 4, 130, 12, 16, 38, 619, 5, 25, 124, 51, 36, 135, 48, 25, 1415, 33, 6, 22, 12, 215, 28, 77, 52, 5, 14, 407, 16, 82, 2, 8, 4, 107, 117, 5952, 15, 256, 4, 2, 7, 3766, 5, 723, 36, 71, 43, 530, 476, 26, 400, 317, 46, 7, 4, 2, 1029, 13, 104, 88, 4, 381, 15, 297, 98, 32, 2071, 56, 26, 141, 6, 194, 7486, 18, 4, 226, 22, 21, 134, 476, 26, 480, 5, 144, 30, 5535, 18, 51, 36, 28, 224, 92, 25, 104, 4, 226, 65, 16, 38, 1334, 88, 12, 16, 283, 5, 16, 4472, 113, 103, 32, 15, 16, 5345, 19, 178, 32]\n",
            "\n",
            "1\n"
          ]
        }
      ]
    },
    {
      "cell_type": "code",
      "source": [
        "# 가장 빈번하게 사용되는 세 개의 단어\n",
        "imdb_get_word_index = {}\n",
        "\n",
        "for key, value in imdb.get_word_index().items():\n",
        "  imdb_get_word_index[value] = key\n",
        "\n",
        "for i in range(1,4):\n",
        "  print(f'{i}번 째로 가장 많이 쓰인 단어 {imdb_get_word_index[i]}')"
      ],
      "metadata": {
        "colab": {
          "base_uri": "https://localhost:8080/"
        },
        "id": "r9QuoawZsZjS",
        "outputId": "a8fb8afe-7eac-4d91-b6a5-4cfdadd2d79e"
      },
      "execution_count": 8,
      "outputs": [
        {
          "output_type": "stream",
          "name": "stdout",
          "text": [
            "Downloading data from https://storage.googleapis.com/tensorflow/tf-keras-datasets/imdb_word_index.json\n",
            "1646592/1641221 [==============================] - 0s 0us/step\n",
            "1654784/1641221 [==============================] - 0s 0us/step\n",
            "1번 째로 가장 많이 쓰인 단어 the\n",
            "2번 째로 가장 많이 쓰인 단어 and\n",
            "3번 째로 가장 많이 쓰인 단어 a\n"
          ]
        }
      ]
    },
    {
      "cell_type": "code",
      "source": [
        "# 데이터 동일한 길이로 맞추기\n",
        "# embedding 층을 사용하기 위해서는 시퀀스 데이터의 길이가 전부 동일해야 함.\n",
        "# pad_sequences() 함수를 사용하면 해당 데이터가 지정해준 길이보다 짧은 경우에는 0으로 채워 넣으며, 긴 경우는 잘라냄\n",
        "\n",
        "from tensorflow.keras.preprocessing.sequence import pad_sequences\n",
        "\n",
        "max_len = 500\n",
        "\n",
        "print(\"Before pad_sequences: \", len(X_train[0]))\n",
        "\n",
        "pad_X_train = pad_sequences(X_train, maxlen=max_len, padding='pre')\n",
        "pad_X_test = pad_sequences(X_test, maxlen=max_len,padding='pre')\n",
        "\n",
        "print(\"After pad_sequences: \", len(pad_X_train[0]))"
      ],
      "metadata": {
        "colab": {
          "base_uri": "https://localhost:8080/"
        },
        "id": "79FFkV22tEoh",
        "outputId": "a72f7dd9-83ea-4a04-d6ad-15371cf6d827"
      },
      "execution_count": 9,
      "outputs": [
        {
          "output_type": "stream",
          "name": "stdout",
          "text": [
            "Before pad_sequences:  218\n",
            "After pad_sequences:  500\n"
          ]
        }
      ]
    },
    {
      "cell_type": "code",
      "source": [
        "# embedding 층은 모델의 첫 번째 층으로만 사용할 수 있음\n",
        "# (batch_size, sequence_length) 형태로 입력을 받으며,\n",
        "# (batch_size, sequence_length, output_dim) 형태를 출력.\n",
        "\n",
        "from tensorflow.keras.models import Sequential\n",
        "from tensorflow.keras.layers import Dense, Embedding, Flatten\n",
        "\n",
        "model = Sequential()\n",
        "model.add(Embedding(input_dim=num_words, output_dim=32, input_length=max_len))\n",
        "model.add(Flatten())\n",
        "model.add(Dense(1,activation='sigmoid'))\n",
        "model.compile(optimizer='adam',loss='binary_crossentropy',metrics=['acc'])"
      ],
      "metadata": {
        "id": "_aChUMT6uDii"
      },
      "execution_count": 10,
      "outputs": []
    },
    {
      "cell_type": "code",
      "source": [
        "# validation_split 인자는 학습 데이터의 끝에서 해당 비율만큼 떼어내어 검증 데이터셋으로 활용함.\n",
        "history=model.fit(pad_X_train,y_train,batch_size=32,epochs=30, validation_split=0.2)"
      ],
      "metadata": {
        "colab": {
          "base_uri": "https://localhost:8080/"
        },
        "id": "dKeqVOXwvGKQ",
        "outputId": "5dd5b92c-6c94-4b47-dff2-2bbf35ff00d0"
      },
      "execution_count": 11,
      "outputs": [
        {
          "output_type": "stream",
          "name": "stdout",
          "text": [
            "Epoch 1/30\n",
            "625/625 [==============================] - 8s 11ms/step - loss: 0.4541 - acc: 0.7807 - val_loss: 0.2916 - val_acc: 0.8824\n",
            "Epoch 2/30\n",
            "625/625 [==============================] - 6s 10ms/step - loss: 0.2007 - acc: 0.9260 - val_loss: 0.2768 - val_acc: 0.8850\n",
            "Epoch 3/30\n",
            "625/625 [==============================] - 7s 11ms/step - loss: 0.1104 - acc: 0.9671 - val_loss: 0.2875 - val_acc: 0.8876\n",
            "Epoch 4/30\n",
            "625/625 [==============================] - 6s 9ms/step - loss: 0.0546 - acc: 0.9895 - val_loss: 0.3161 - val_acc: 0.8848\n",
            "Epoch 5/30\n",
            "625/625 [==============================] - 6s 10ms/step - loss: 0.0255 - acc: 0.9975 - val_loss: 0.3539 - val_acc: 0.8800\n",
            "Epoch 6/30\n",
            "625/625 [==============================] - 6s 10ms/step - loss: 0.0128 - acc: 0.9995 - val_loss: 0.3741 - val_acc: 0.8778\n",
            "Epoch 7/30\n",
            "625/625 [==============================] - 8s 12ms/step - loss: 0.0069 - acc: 0.9998 - val_loss: 0.4011 - val_acc: 0.8782\n",
            "Epoch 8/30\n",
            "625/625 [==============================] - 7s 12ms/step - loss: 0.0041 - acc: 0.9999 - val_loss: 0.4223 - val_acc: 0.8786\n",
            "Epoch 9/30\n",
            "625/625 [==============================] - 8s 12ms/step - loss: 0.0024 - acc: 1.0000 - val_loss: 0.4507 - val_acc: 0.8772\n",
            "Epoch 10/30\n",
            "625/625 [==============================] - 6s 10ms/step - loss: 0.0015 - acc: 1.0000 - val_loss: 0.4684 - val_acc: 0.8772\n",
            "Epoch 11/30\n",
            "625/625 [==============================] - 7s 11ms/step - loss: 9.8763e-04 - acc: 1.0000 - val_loss: 0.4866 - val_acc: 0.8784\n",
            "Epoch 12/30\n",
            "625/625 [==============================] - 7s 11ms/step - loss: 6.7163e-04 - acc: 1.0000 - val_loss: 0.5094 - val_acc: 0.8760\n",
            "Epoch 13/30\n",
            "625/625 [==============================] - 7s 10ms/step - loss: 4.4169e-04 - acc: 1.0000 - val_loss: 0.5272 - val_acc: 0.8778\n",
            "Epoch 14/30\n",
            "625/625 [==============================] - 7s 11ms/step - loss: 3.0473e-04 - acc: 1.0000 - val_loss: 0.5483 - val_acc: 0.8768\n",
            "Epoch 15/30\n",
            "625/625 [==============================] - 6s 10ms/step - loss: 2.0975e-04 - acc: 1.0000 - val_loss: 0.5669 - val_acc: 0.8762\n",
            "Epoch 16/30\n",
            "625/625 [==============================] - 6s 10ms/step - loss: 1.4354e-04 - acc: 1.0000 - val_loss: 0.5857 - val_acc: 0.8766\n",
            "Epoch 17/30\n",
            "625/625 [==============================] - 7s 11ms/step - loss: 1.0085e-04 - acc: 1.0000 - val_loss: 0.6042 - val_acc: 0.8770\n",
            "Epoch 18/30\n",
            "625/625 [==============================] - 8s 12ms/step - loss: 6.9061e-05 - acc: 1.0000 - val_loss: 0.6243 - val_acc: 0.8744\n",
            "Epoch 19/30\n",
            "625/625 [==============================] - 7s 11ms/step - loss: 4.8205e-05 - acc: 1.0000 - val_loss: 0.6420 - val_acc: 0.8754\n",
            "Epoch 20/30\n",
            "625/625 [==============================] - 7s 11ms/step - loss: 3.4291e-05 - acc: 1.0000 - val_loss: 0.6597 - val_acc: 0.8756\n",
            "Epoch 21/30\n",
            "625/625 [==============================] - 8s 12ms/step - loss: 2.3973e-05 - acc: 1.0000 - val_loss: 0.6784 - val_acc: 0.8756\n",
            "Epoch 22/30\n",
            "625/625 [==============================] - 7s 11ms/step - loss: 1.7022e-05 - acc: 1.0000 - val_loss: 0.6973 - val_acc: 0.8752\n",
            "Epoch 23/30\n",
            "625/625 [==============================] - 8s 12ms/step - loss: 1.2267e-05 - acc: 1.0000 - val_loss: 0.7166 - val_acc: 0.8752\n",
            "Epoch 24/30\n",
            "625/625 [==============================] - 8s 13ms/step - loss: 8.6513e-06 - acc: 1.0000 - val_loss: 0.7310 - val_acc: 0.8756\n",
            "Epoch 25/30\n",
            "625/625 [==============================] - 7s 12ms/step - loss: 6.2578e-06 - acc: 1.0000 - val_loss: 0.7501 - val_acc: 0.8754\n",
            "Epoch 26/30\n",
            "625/625 [==============================] - 7s 12ms/step - loss: 4.4958e-06 - acc: 1.0000 - val_loss: 0.7687 - val_acc: 0.8756\n",
            "Epoch 27/30\n",
            "625/625 [==============================] - 7s 12ms/step - loss: 3.2822e-06 - acc: 1.0000 - val_loss: 0.7851 - val_acc: 0.8754\n",
            "Epoch 28/30\n",
            "625/625 [==============================] - 8s 12ms/step - loss: 2.3923e-06 - acc: 1.0000 - val_loss: 0.8038 - val_acc: 0.8754\n",
            "Epoch 29/30\n",
            "625/625 [==============================] - 7s 11ms/step - loss: 1.7574e-06 - acc: 1.0000 - val_loss: 0.8201 - val_acc: 0.8736\n",
            "Epoch 30/30\n",
            "625/625 [==============================] - 7s 11ms/step - loss: 1.3090e-06 - acc: 1.0000 - val_loss: 0.8378 - val_acc: 0.8748\n"
          ]
        }
      ]
    },
    {
      "cell_type": "code",
      "source": [
        "import matplotlib.pyplot as plt\n",
        "\n",
        "his_dict = history.history\n",
        "loss = his_dict['loss']\n",
        "val_loss = his_dict['val_loss']\n",
        "\n",
        "epochs = range(1,len(loss)+1)\n",
        "fig = plt.figure(figsize=(10,5))\n",
        "\n",
        "ax1 = fig.add_subplot(1,2,1)\n",
        "ax1.plot(epochs,loss,color='blue', label= 'train_loss')\n",
        "ax1.plot(epochs,val_loss,color='orange', label= 'val_loss')\n",
        "ax1.set_title('train and val loss')\n",
        "ax1.set_xlabel('epochs')\n",
        "ax1.set_ylabel('loss')\n",
        "ax1.legend()\n",
        "\n",
        "acc=his_dict['acc']\n",
        "val_acc=his_dict['val_acc']\n",
        "\n",
        "ax2 = fig.add_subplot(1,2,2)\n",
        "ax2.plot(epochs,acc,color='blue', label= 'train_acc')\n",
        "ax2.plot(epochs,val_acc,color='orange', label= 'val_acc')\n",
        "ax2.set_title('train and val acc')\n",
        "ax2.set_xlabel('epochs')\n",
        "ax2.set_ylabel('acc')\n",
        "ax2.legend()\n",
        "\n",
        "plt.show()"
      ],
      "metadata": {
        "colab": {
          "base_uri": "https://localhost:8080/",
          "height": 350
        },
        "id": "-4i9ZgcJvRY2",
        "outputId": "cff6c8ec-4f0f-4af0-9d0e-c1789f737710"
      },
      "execution_count": 12,
      "outputs": [
        {
          "output_type": "display_data",
          "data": {
            "text/plain": [
              "<Figure size 720x360 with 2 Axes>"
            ],
            "image/png": "[encoded data removed]"
          },
          "metadata": {
            "needs_background": "light"
          }
        }
      ]
    },
    {
      "cell_type": "code",
      "source": [
        ""
      ],
      "metadata": {
        "id": "9R29aPmkwg6D"
      },
      "execution_count": null,
      "outputs": []
    }
  ]
}