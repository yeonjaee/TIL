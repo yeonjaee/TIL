{
 "cells": [
  {
   "cell_type": "code",
   "execution_count": 1,
   "metadata": {},
   "outputs": [],
   "source": [
    "import pandas as pd\n",
    "import numpy as np"
   ]
  },
  {
   "cell_type": "code",
   "execution_count": 7,
   "metadata": {},
   "outputs": [
    {
     "name": "stderr",
     "output_type": "stream",
     "text": [
      "C:\\ProgramData\\Anaconda3\\lib\\site-packages\\openpyxl\\styles\\stylesheet.py:226: UserWarning: Workbook contains no default style, apply openpyxl's default\n",
      "  warn(\"Workbook contains no default style, apply openpyxl's default\")\n"
     ]
    },
    {
     "data": {
      "text/html": [
       "<div>\n",
       "<style scoped>\n",
       "    .dataframe tbody tr th:only-of-type {\n",
       "        vertical-align: middle;\n",
       "    }\n",
       "\n",
       "    .dataframe tbody tr th {\n",
       "        vertical-align: top;\n",
       "    }\n",
       "\n",
       "    .dataframe thead th {\n",
       "        text-align: right;\n",
       "    }\n",
       "</style>\n",
       "<table border=\"1\" class=\"dataframe\">\n",
       "  <thead>\n",
       "    <tr style=\"text-align: right;\">\n",
       "      <th></th>\n",
       "      <th>뉴스 식별자</th>\n",
       "      <th>일자</th>\n",
       "      <th>언론사</th>\n",
       "      <th>기고자</th>\n",
       "      <th>제목</th>\n",
       "      <th>통합 분류1</th>\n",
       "      <th>통합 분류2</th>\n",
       "      <th>통합 분류3</th>\n",
       "      <th>사건/사고 분류1</th>\n",
       "      <th>사건/사고 분류2</th>\n",
       "      <th>사건/사고 분류3</th>\n",
       "      <th>인물</th>\n",
       "      <th>위치</th>\n",
       "      <th>기관</th>\n",
       "      <th>키워드</th>\n",
       "      <th>특성추출(가중치순 상위 50개)</th>\n",
       "      <th>본문</th>\n",
       "      <th>URL</th>\n",
       "      <th>분석제외 여부</th>\n",
       "    </tr>\n",
       "  </thead>\n",
       "  <tbody>\n",
       "    <tr>\n",
       "      <th>0</th>\n",
       "      <td>1.100201e+06</td>\n",
       "      <td>20220307</td>\n",
       "      <td>국민일보</td>\n",
       "      <td>양한주</td>\n",
       "      <td>삼성, 중저가 시장서 명예회복 노린다 A시리즈로 아이폰SE와 격돌</td>\n",
       "      <td>IT_과학&gt;모바일</td>\n",
       "      <td>IT_과학&gt;콘텐츠</td>\n",
       "      <td>NaN</td>\n",
       "      <td>NaN</td>\n",
       "      <td>NaN</td>\n",
       "      <td>NaN</td>\n",
       "      <td>NaN</td>\n",
       "      <td>중국</td>\n",
       "      <td>애플,옴디아,삼성전자,삼성</td>\n",
       "      <td>삼성,중저,시장,명예회복,A시리즈,아이폰SE,격돌,삼성전자,공개,이달,갤럭시,시리즈...</td>\n",
       "      <td>갤럭시,삼성전자,스마트폰,중저가,gos,업데이트,5g,옴디아,점유율,바이오닉,출하량...</td>\n",
       "      <td>삼성전자가 이르면 이달 중 보급형 스마트폰인 갤럭시 A 시리즈를 선보인다. 2년 만...</td>\n",
       "      <td>http://news.kmib.co.kr/article/view.asp?arcid=...</td>\n",
       "      <td>NaN</td>\n",
       "    </tr>\n",
       "    <tr>\n",
       "      <th>1</th>\n",
       "      <td>2.100701e+06</td>\n",
       "      <td>20220307</td>\n",
       "      <td>헤럴드경제</td>\n",
       "      <td>박혜림 기자</td>\n",
       "      <td>“삼성, 정말 이래도 돼?” 싸다고 ‘이것’까지 없앤다</td>\n",
       "      <td>IT_과학&gt;모바일</td>\n",
       "      <td>IT_과학&gt;콘텐츠</td>\n",
       "      <td>NaN</td>\n",
       "      <td>NaN</td>\n",
       "      <td>NaN</td>\n",
       "      <td>NaN</td>\n",
       "      <td>NaN</td>\n",
       "      <td>NaN</td>\n",
       "      <td>애플,샘모바일,유럽,삼성전자</td>\n",
       "      <td>삼성,충전기,삼성전자,구성품,중저가,스마트폰,충전기,불포함,충전기,어댑터,A13,시...</td>\n",
       "      <td>갤럭시,충전기,스마트폰,삼성전자,중저가폰,중저가,샘모바일,구성품,a13,어댑,후속작...</td>\n",
       "      <td>[헤럴드경제=박혜림 기자] “싸다고 충전기까지 뺀다?” \\n \\n 삼성전자가 중저가...</td>\n",
       "      <td>http://biz.heraldcorp.com/view.php?ud=20220307...</td>\n",
       "      <td>NaN</td>\n",
       "    </tr>\n",
       "    <tr>\n",
       "      <th>2</th>\n",
       "      <td>2.100311e+06</td>\n",
       "      <td>20220307</td>\n",
       "      <td>서울경제</td>\n",
       "      <td>윤민혁 기자</td>\n",
       "      <td>삼성전자, '랩서스' 해킹 관해 \"고객정보 유출 없어\"</td>\n",
       "      <td>IT_과학&gt;보안</td>\n",
       "      <td>IT_과학&gt;모바일</td>\n",
       "      <td>NaN</td>\n",
       "      <td>NaN</td>\n",
       "      <td>NaN</td>\n",
       "      <td>NaN</td>\n",
       "      <td>NaN</td>\n",
       "      <td>미국</td>\n",
       "      <td>시큐리티팀,랩서스,퀄컴,삼성전자,MX,엔비디아</td>\n",
       "      <td>삼성전자,랩서스,해킹,고객,정보,유출,삼성전자,외국,해커,그룹,랩서스,APSUS,해...</td>\n",
       "      <td>삼성전자,랩서스,삼성,임직원,하드웨어,미국,트러스트존,사업부,보안시스템,그래픽카드,...</td>\n",
       "      <td>삼성전자(005930)가 외국 해커 그룹 ‘랩서스(LAPSUS＄)’로부터 해킹 당했...</td>\n",
       "      <td>http://www.sedaily.com/NewsView/263BRBFNGS</td>\n",
       "      <td>NaN</td>\n",
       "    </tr>\n",
       "    <tr>\n",
       "      <th>3</th>\n",
       "      <td>1.100611e+06</td>\n",
       "      <td>20220307</td>\n",
       "      <td>서울신문</td>\n",
       "      <td>나상현</td>\n",
       "      <td>삼성 “해킹 자료에 임직원 고객 개인 정보 포함 안됐다”</td>\n",
       "      <td>IT_과학&gt;보안</td>\n",
       "      <td>IT_과학&gt;모바일</td>\n",
       "      <td>NaN</td>\n",
       "      <td>NaN</td>\n",
       "      <td>NaN</td>\n",
       "      <td>NaN</td>\n",
       "      <td>NaN</td>\n",
       "      <td>미국,토렌트</td>\n",
       "      <td>랩서스,시큐리티팀,삼성전자,삼성,MX사업부,엔비디아</td>\n",
       "      <td>자료,삼성,해킹,임직원,고객,포함,개인,정보,삼성전자,랩서스,외국,해커,그룹,APS...</td>\n",
       "      <td>삼성전자,임직원,랩서스,미국,엔비디아,사업부,보안시스템,소스코드,토렌트,회로도,그래...</td>\n",
       "      <td>삼성전자가 최근 외국 해커그룹 랩서스(LAPSUS$)로부터 해킹 공격을 받은 것과 ...</td>\n",
       "      <td>http://www.seoul.co.kr/news/newsView.php?id=20...</td>\n",
       "      <td>NaN</td>\n",
       "    </tr>\n",
       "    <tr>\n",
       "      <th>4</th>\n",
       "      <td>7.100501e+06</td>\n",
       "      <td>20220307</td>\n",
       "      <td>전자신문</td>\n",
       "      <td>전자신문인터넷 양민하 기자</td>\n",
       "      <td>\"갤럭시A 붙자\"...공개 임박 애플 '아이폰SE3' 스펙은?</td>\n",
       "      <td>IT_과학&gt;모바일</td>\n",
       "      <td>NaN</td>\n",
       "      <td>NaN</td>\n",
       "      <td>NaN</td>\n",
       "      <td>NaN</td>\n",
       "      <td>NaN</td>\n",
       "      <td>NaN</td>\n",
       "      <td>양산</td>\n",
       "      <td>궈밍치,애플,전자신문,JP모건,퀄컴,옴디아,삼성전자,GSM아레나,삼성</td>\n",
       "      <td>아이폰SE3,갤럭시,공개,임박,애플,아이폰,SE,스펙,애플,이벤트,스페셜,아이폰SE...</td>\n",
       "      <td>중저가,스마트폰,아이폰se3,갤럭시,삼성전자,출하량,사용자,64gb,상반기,옴디아,...</td>\n",
       "      <td>애플이 오는 9일 스페셜 이벤트를 통해 '아이폰SE' 신제품을 선보일 전망이다. 홈...</td>\n",
       "      <td>http://www.etnews.com/20220307000271</td>\n",
       "      <td>NaN</td>\n",
       "    </tr>\n",
       "  </tbody>\n",
       "</table>\n",
       "</div>"
      ],
      "text/plain": [
       "         뉴스 식별자        일자    언론사             기고자  \\\n",
       "0  1.100201e+06  20220307   국민일보             양한주   \n",
       "1  2.100701e+06  20220307  헤럴드경제          박혜림 기자   \n",
       "2  2.100311e+06  20220307   서울경제          윤민혁 기자   \n",
       "3  1.100611e+06  20220307   서울신문             나상현   \n",
       "4  7.100501e+06  20220307   전자신문  전자신문인터넷 양민하 기자   \n",
       "\n",
       "                                     제목     통합 분류1      통합 분류2 통합 분류3  \\\n",
       "0  삼성, 중저가 시장서 명예회복 노린다 A시리즈로 아이폰SE와 격돌  IT_과학>모바일   IT_과학>콘텐츠    NaN   \n",
       "1        “삼성, 정말 이래도 돼?” 싸다고 ‘이것’까지 없앤다  IT_과학>모바일   IT_과학>콘텐츠    NaN   \n",
       "2        삼성전자, '랩서스' 해킹 관해 \"고객정보 유출 없어\"   IT_과학>보안   IT_과학>모바일    NaN   \n",
       "3       삼성 “해킹 자료에 임직원 고객 개인 정보 포함 안됐다”   IT_과학>보안   IT_과학>모바일    NaN   \n",
       "4    \"갤럭시A 붙자\"...공개 임박 애플 '아이폰SE3' 스펙은?  IT_과학>모바일         NaN    NaN   \n",
       "\n",
       "  사건/사고 분류1 사건/사고 분류2  사건/사고 분류3   인물      위치  \\\n",
       "0       NaN       NaN        NaN  NaN      중국   \n",
       "1       NaN       NaN        NaN  NaN     NaN   \n",
       "2       NaN       NaN        NaN  NaN      미국   \n",
       "3       NaN       NaN        NaN  NaN  미국,토렌트   \n",
       "4       NaN       NaN        NaN  NaN      양산   \n",
       "\n",
       "                                       기관  \\\n",
       "0                          애플,옴디아,삼성전자,삼성   \n",
       "1                         애플,샘모바일,유럽,삼성전자   \n",
       "2               시큐리티팀,랩서스,퀄컴,삼성전자,MX,엔비디아   \n",
       "3            랩서스,시큐리티팀,삼성전자,삼성,MX사업부,엔비디아   \n",
       "4  궈밍치,애플,전자신문,JP모건,퀄컴,옴디아,삼성전자,GSM아레나,삼성   \n",
       "\n",
       "                                                 키워드  \\\n",
       "0  삼성,중저,시장,명예회복,A시리즈,아이폰SE,격돌,삼성전자,공개,이달,갤럭시,시리즈...   \n",
       "1  삼성,충전기,삼성전자,구성품,중저가,스마트폰,충전기,불포함,충전기,어댑터,A13,시...   \n",
       "2  삼성전자,랩서스,해킹,고객,정보,유출,삼성전자,외국,해커,그룹,랩서스,APSUS,해...   \n",
       "3  자료,삼성,해킹,임직원,고객,포함,개인,정보,삼성전자,랩서스,외국,해커,그룹,APS...   \n",
       "4  아이폰SE3,갤럭시,공개,임박,애플,아이폰,SE,스펙,애플,이벤트,스페셜,아이폰SE...   \n",
       "\n",
       "                                   특성추출(가중치순 상위 50개)  \\\n",
       "0  갤럭시,삼성전자,스마트폰,중저가,gos,업데이트,5g,옴디아,점유율,바이오닉,출하량...   \n",
       "1  갤럭시,충전기,스마트폰,삼성전자,중저가폰,중저가,샘모바일,구성품,a13,어댑,후속작...   \n",
       "2  삼성전자,랩서스,삼성,임직원,하드웨어,미국,트러스트존,사업부,보안시스템,그래픽카드,...   \n",
       "3  삼성전자,임직원,랩서스,미국,엔비디아,사업부,보안시스템,소스코드,토렌트,회로도,그래...   \n",
       "4  중저가,스마트폰,아이폰se3,갤럭시,삼성전자,출하량,사용자,64gb,상반기,옴디아,...   \n",
       "\n",
       "                                                  본문  \\\n",
       "0  삼성전자가 이르면 이달 중 보급형 스마트폰인 갤럭시 A 시리즈를 선보인다. 2년 만...   \n",
       "1  [헤럴드경제=박혜림 기자] “싸다고 충전기까지 뺀다?” \\n \\n 삼성전자가 중저가...   \n",
       "2  삼성전자(005930)가 외국 해커 그룹 ‘랩서스(LAPSUS＄)’로부터 해킹 당했...   \n",
       "3  삼성전자가 최근 외국 해커그룹 랩서스(LAPSUS$)로부터 해킹 공격을 받은 것과 ...   \n",
       "4  애플이 오는 9일 스페셜 이벤트를 통해 '아이폰SE' 신제품을 선보일 전망이다. 홈...   \n",
       "\n",
       "                                                 URL 분석제외 여부  \n",
       "0  http://news.kmib.co.kr/article/view.asp?arcid=...     NaN  \n",
       "1  http://biz.heraldcorp.com/view.php?ud=20220307...     NaN  \n",
       "2         http://www.sedaily.com/NewsView/263BRBFNGS     NaN  \n",
       "3  http://www.seoul.co.kr/news/newsView.php?id=20...     NaN  \n",
       "4               http://www.etnews.com/20220307000271     NaN  "
      ]
     },
     "execution_count": 7,
     "metadata": {},
     "output_type": "execute_result"
    }
   ],
   "source": [
    "df = pd.read_excel('samsung_smartphone.xlsx')\n",
    "df.head()"
   ]
  },
  {
   "cell_type": "code",
   "execution_count": 9,
   "metadata": {},
   "outputs": [
    {
     "data": {
      "text/plain": [
       "0    삼성전자가 이르면 이달 중 보급형 스마트폰인 갤럭시 A 시리즈를 선보인다. 2년 만...\n",
       "1    [헤럴드경제=박혜림 기자] “싸다고 충전기까지 뺀다?” \\n \\n 삼성전자가 중저가...\n",
       "2    삼성전자(005930)가 외국 해커 그룹 ‘랩서스(LAPSUS＄)’로부터 해킹 당했...\n",
       "3    삼성전자가 최근 외국 해커그룹 랩서스(LAPSUS$)로부터 해킹 공격을 받은 것과 ...\n",
       "4    애플이 오는 9일 스페셜 이벤트를 통해 '아이폰SE' 신제품을 선보일 전망이다. 홈...\n",
       "Name: 본문, dtype: object"
      ]
     },
     "execution_count": 9,
     "metadata": {},
     "output_type": "execute_result"
    }
   ],
   "source": [
    "df['본문'].head()"
   ]
  },
  {
   "cell_type": "code",
   "execution_count": 11,
   "metadata": {},
   "outputs": [
    {
     "name": "stdout",
     "output_type": "stream",
     "text": [
      "^C\n",
      "Collecting eunjeon\n",
      "  Downloading eunjeon-0.4.0.tar.gz (34.7 MB)\n",
      "Building wheels for collected packages: eunjeon\n",
      "  Building wheel for eunjeon (setup.py): started\n",
      "  Building wheel for eunjeon (setup.py): finished with status 'done'\n",
      "  Created wheel for eunjeon: filename=eunjeon-0.4.0-cp39-cp39-win_amd64.whl size=35021994 sha256=c50620f963db3d09041ef25fdee3f40869fdc2810e5a4f6cb533f3434439047c\n",
      "  Stored in directory: c:\\users\\yj\\appdata\\local\\pip\\cache\\wheels\\51\\05\\fb\\48ff3bf6804f7cea4a3f7be6300a5b19618007c35d2064a753\n",
      "Successfully built eunjeon\n",
      "Installing collected packages: eunjeon\n",
      "Successfully installed eunjeon-0.4.0\n"
     ]
    }
   ],
   "source": [
    "!pip install eunjeon"
   ]
  },
  {
   "cell_type": "code",
   "execution_count": 12,
   "metadata": {},
   "outputs": [],
   "source": [
    "posts = df.본문"
   ]
  },
  {
   "cell_type": "code",
   "execution_count": 13,
   "metadata": {},
   "outputs": [],
   "source": [
    "from eunjeon import Mecab\n",
    "tagger = Mecab()"
   ]
  },
  {
   "cell_type": "code",
   "execution_count": 14,
   "metadata": {},
   "outputs": [],
   "source": [
    "stop_words = \"은 이 것 등 더 를 좀 즉 인 옹 때 만 원 이때 개 일 기 시 럭 갤 성 삼 스 폰 트 드 기 이 리 폴 사 전 마 자 플 블 가 \""
   ]
  },
  {
   "cell_type": "code",
   "execution_count": 15,
   "metadata": {},
   "outputs": [
    {
     "data": {
      "text/plain": [
       "['은', '이', '것', '등', '더', '를', '좀', '즉', '인', '옹']"
      ]
     },
     "execution_count": 15,
     "metadata": {},
     "output_type": "execute_result"
    }
   ],
   "source": [
    "stop_words = stop_words.split(' ')\n",
    "stop_words[0:10]"
   ]
  },
  {
   "cell_type": "code",
   "execution_count": 16,
   "metadata": {},
   "outputs": [],
   "source": [
    "nouns = [ ]\n",
    "for post in posts:\n",
    "    for noun in tagger.nouns(post):\n",
    "        if noun not in stop_words:\n",
    "            nouns.append(noun)"
   ]
  },
  {
   "cell_type": "code",
   "execution_count": 17,
   "metadata": {},
   "outputs": [
    {
     "data": {
      "text/plain": [
       "['삼성전자', '이달', '중', '보급', '스마트폰', '갤럭시', '시리즈', '년', '보급', '제품']"
      ]
     },
     "execution_count": 17,
     "metadata": {},
     "output_type": "execute_result"
    }
   ],
   "source": [
    "nouns[:10]"
   ]
  },
  {
   "cell_type": "code",
   "execution_count": 18,
   "metadata": {},
   "outputs": [
    {
     "data": {
      "text/plain": [
       "['삼성전자',\n",
       " '이달',\n",
       " '중',\n",
       " '보급',\n",
       " '스마트폰',\n",
       " '갤럭시',\n",
       " '시리즈',\n",
       " '년',\n",
       " '보급',\n",
       " '제품',\n",
       " '출시',\n",
       " '중저가',\n",
       " '시장',\n",
       " '공략',\n",
       " '애플',\n",
       " '견제',\n",
       " '글로벌',\n",
       " '시장',\n",
       " '선두',\n",
       " '취지']"
      ]
     },
     "execution_count": 18,
     "metadata": {},
     "output_type": "execute_result"
    }
   ],
   "source": [
    "nouns[:20]"
   ]
  },
  {
   "cell_type": "code",
   "execution_count": 19,
   "metadata": {},
   "outputs": [],
   "source": [
    "words = []\n",
    "for post in posts:\n",
    "    words.extend(tagger.pos(post))  # pos : part of speech(품사)"
   ]
  },
  {
   "cell_type": "code",
   "execution_count": 20,
   "metadata": {},
   "outputs": [
    {
     "data": {
      "text/plain": [
       "[('삼성전자', 'NNP'),\n",
       " ('가', 'JKS'),\n",
       " ('이르', 'VV'),\n",
       " ('면', 'EC'),\n",
       " ('이달', 'NNG'),\n",
       " ('중', 'NNB'),\n",
       " ('보급', 'NNG'),\n",
       " ('형', 'XSN'),\n",
       " ('스마트폰', 'NNP'),\n",
       " ('인', 'VCP+ETM')]"
      ]
     },
     "execution_count": 20,
     "metadata": {},
     "output_type": "execute_result"
    }
   ],
   "source": [
    "words[:10]"
   ]
  },
  {
   "cell_type": "code",
   "execution_count": 21,
   "metadata": {},
   "outputs": [],
   "source": [
    "verbs = []\n",
    "for word in words:\n",
    "    if word[1] == 'VV':\n",
    "        verbs.append(word[0]+'다')"
   ]
  },
  {
   "cell_type": "code",
   "execution_count": 22,
   "metadata": {},
   "outputs": [
    {
     "data": {
      "text/plain": [
       "['이르다', '지키다', '있다', '넣다', '따르다', '받다', '오다', '치솟다', '앓다', '실다']"
      ]
     },
     "execution_count": 22,
     "metadata": {},
     "output_type": "execute_result"
    }
   ],
   "source": [
    "verbs[:10]"
   ]
  },
  {
   "cell_type": "code",
   "execution_count": 23,
   "metadata": {},
   "outputs": [
    {
     "data": {
      "text/plain": [
       "('.', 'SF')"
      ]
     },
     "execution_count": 23,
     "metadata": {},
     "output_type": "execute_result"
    }
   ],
   "source": [
    "word[0],word[1] # word[0]: 단어, word[1]: 단어에 tagging 된 품사"
   ]
  },
  {
   "cell_type": "code",
   "execution_count": 24,
   "metadata": {},
   "outputs": [],
   "source": [
    "adjective = []\n",
    "for word in words:\n",
    "    if word[1] == 'VA':\n",
    "        adjective.append(word[0]+'다')"
   ]
  },
  {
   "cell_type": "code",
   "execution_count": 25,
   "metadata": {},
   "outputs": [
    {
     "data": {
      "text/plain": [
       "['싸다', '높다', '없다', '많다', '좋다', '있다', '높다', '많다', '없다', '같다']"
      ]
     },
     "execution_count": 25,
     "metadata": {},
     "output_type": "execute_result"
    }
   ],
   "source": [
    "adjective[:10]"
   ]
  },
  {
   "cell_type": "code",
   "execution_count": 26,
   "metadata": {},
   "outputs": [
    {
     "data": {
      "text/plain": [
       "[('갤럭시', 1865),\n",
       " ('삼성전자', 1795),\n",
       " ('시리즈', 808),\n",
       " ('스마트폰', 753),\n",
       " ('삼성', 557),\n",
       " ('공개', 478),\n",
       " ('제품', 439),\n",
       " ('시장', 391),\n",
       " ('출시', 374),\n",
       " ('더블', 350),\n",
       " ('기자', 345),\n",
       " ('년', 272),\n",
       " ('세계', 270),\n",
       " ('시간', 266),\n",
       " ('모바일', 245),\n",
       " ('중국', 243),\n",
       " ('현지', 242),\n",
       " ('미국', 241),\n",
       " ('애플', 235),\n",
       " ('기술', 216)]"
      ]
     },
     "execution_count": 26,
     "metadata": {},
     "output_type": "execute_result"
    }
   ],
   "source": [
    "from collections import Counter\n",
    "\n",
    "counted_nouns = Counter(nouns)\n",
    "top_20 = counted_nouns.most_common(20)\n",
    "top_20"
   ]
  },
  {
   "cell_type": "code",
   "execution_count": null,
   "metadata": {},
   "outputs": [],
   "source": []
  }
 ],
 "metadata": {
  "interpreter": {
   "hash": "b3ba2566441a7c06988d0923437866b63cedc61552a5af99d1f4fb67d367b25f"
  },
  "kernelspec": {
   "display_name": "Python 3.9.7 ('base')",
   "language": "python",
   "name": "python3"
  },
  "language_info": {
   "codemirror_mode": {
    "name": "ipython",
    "version": 3
   },
   "file_extension": ".py",
   "mimetype": "text/x-python",
   "name": "python",
   "nbconvert_exporter": "python",
   "pygments_lexer": "ipython3",
   "version": "3.9.7"
  },
  "orig_nbformat": 4
 },
 "nbformat": 4,
 "nbformat_minor": 2
}
